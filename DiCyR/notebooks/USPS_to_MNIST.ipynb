{
 "cells": [
  {
   "cell_type": "code",
   "execution_count": 1,
   "metadata": {},
   "outputs": [
    {
     "name": "stderr",
     "output_type": "stream",
     "text": [
      "Matplotlib created a temporary config/cache directory at /tmp/matplotlib-ffljnpu5 because the default path (/home/david.bertoin/.config/matplotlib) is not a writable directory; it is highly recommended to set the MPLCONFIGDIR environment variable to a writable directory, in particular to speed up the import of Matplotlib and to better support multiprocessing.\n"
     ]
    }
   ],
   "source": [
    "import sys\n",
    "sys.path.append(\"../\")\n",
    "\n",
    "from torch import nn\n",
    "from data_utils import load_mnist, load_usps\n",
    "from models import DomainAdaptationNetwork, ProjectorNetwork\n",
    "\n",
    "import torch\n",
    "from torch.nn import functional as F\n",
    "import numpy as np\n",
    "from train import train_domain_adaptation\n",
    "from utils import test_network, plot_target_cross_domain_swapping, plot_tsne"
   ]
  },
  {
   "cell_type": "code",
   "execution_count": 2,
   "metadata": {},
   "outputs": [],
   "source": [
    "torch.manual_seed(0)\n",
    "import numpy as np\n",
    "np.random.seed(0)\n",
    "torch.backends.cudnn.deterministic = True\n",
    "torch.backends.cudnn.benchmark = False"
   ]
  },
  {
   "cell_type": "code",
   "execution_count": 3,
   "metadata": {},
   "outputs": [],
   "source": [
    "class Decoder(nn.Module):\n",
    "    def __init__(self, latent_space_dim, conv_feat_size, nb_channels=3):\n",
    "        super(Decoder, self).__init__()\n",
    "\n",
    "        self.latent_space_dim = latent_space_dim\n",
    "        self.conv_feat_size = conv_feat_size\n",
    "\n",
    "        self.deco_dense = nn.Sequential(\n",
    "            nn.Linear(in_features=latent_space_dim, out_features=1024),\n",
    "            nn.ReLU(True),\n",
    "            nn.Linear(in_features=1024, out_features=np.prod(self.conv_feat_size)),\n",
    "            nn.ReLU(True),\n",
    "        )\n",
    "\n",
    "        self.deco_fetures = nn.Sequential(\n",
    "            nn.Conv2d(in_channels=self.conv_feat_size[0], out_channels=75, kernel_size=3, padding=1),\n",
    "            nn.ReLU(True),\n",
    "            nn.Upsample(scale_factor=2),\n",
    "            nn.Conv2d(in_channels=75, out_channels=50, kernel_size=5, padding=2),\n",
    "            nn.ReLU(True),\n",
    "            nn.Upsample(scale_factor=2),\n",
    "            nn.Conv2d(in_channels=50, out_channels=1, kernel_size=5, padding=2),\n",
    "            nn.Sigmoid()\n",
    "        )\n",
    "\n",
    "    def forward(self, z_share, z_spe):\n",
    "        z = torch.cat([z_share, z_spe], 1)\n",
    "        feat_encode = self.deco_dense(z)\n",
    "        feat_encode = feat_encode.view(-1, *self.conv_feat_size)\n",
    "        y = self.deco_fetures(feat_encode)\n",
    "\n",
    "        return y\n",
    "\n",
    "\n",
    "class Encoder(nn.Module):\n",
    "    def __init__(self, latent_space_dim, img_size, nb_channels=3):\n",
    "        super(Encoder, self).__init__()\n",
    "\n",
    "        self.latent_space_dim = latent_space_dim\n",
    "        self.nb_channels = nb_channels\n",
    "\n",
    "        self.conv_feat = nn.Sequential(\n",
    "            nn.Conv2d(in_channels=1, out_channels=50, kernel_size=5, padding=2),\n",
    "            nn.ReLU(True),\n",
    "            nn.BatchNorm2d(50),\n",
    "            nn.MaxPool2d(kernel_size=2, stride=2),\n",
    "            nn.Conv2d(in_channels=50, out_channels=75, kernel_size=5, padding=2),\n",
    "            nn.ReLU(True),\n",
    "            nn.BatchNorm2d(75),\n",
    "            nn.MaxPool2d(kernel_size=2, stride=2),\n",
    "            nn.Conv2d(in_channels=75, out_channels=100, kernel_size=3, padding=1),\n",
    "            nn.ReLU(True),\n",
    "            nn.BatchNorm2d(100),\n",
    "        )\n",
    "\n",
    "        self.conv_feat_size = self.conv_feat(torch.zeros(1, *img_size)).shape[1:]\n",
    "        self.dense_feature_size = np.prod(self.conv_feat_size)\n",
    "\n",
    "        self.dense_feat = nn.Linear(in_features=self.dense_feature_size, out_features=1024)\n",
    "        self.task_feat = nn.Linear(in_features=1024, out_features=latent_space_dim)\n",
    "        self.source_feat = nn.Linear(in_features=1024, out_features=latent_space_dim)\n",
    "        self.target_feat = nn.Linear(in_features=1024, out_features=latent_space_dim)\n",
    "\n",
    "    def forward(self, input_data, mode='all'):\n",
    "        if (input_data.shape[1] == 1) & (self.nb_channels == 3):\n",
    "            input_data = input_data.repeat(1, 3, 1, 1)\n",
    "        feat = self.conv_feat(input_data)\n",
    "        feat = feat.view(-1, self.dense_feature_size)\n",
    "        feat = F.relu(self.dense_feat(feat))\n",
    "        if mode == 'task':\n",
    "            z_task = F.relu(self.task_feat(feat))\n",
    "            return z_task\n",
    "        \n",
    "        elif mode == 'source':\n",
    "            z_source = F.relu(self.source_feat(feat))\n",
    "            return z_source\n",
    "        \n",
    "        elif mode == 'target':\n",
    "            z_target = F.relu(self.target_feat(feat))\n",
    "            return z_target\n",
    "        \n",
    "        else:\n",
    "            z_task = F.relu(self.task_feat(feat))\n",
    "            z_source = F.relu(self.source_feat(feat))\n",
    "            z_target = F.relu(self.target_feat(feat))\n",
    "            return z_task, z_source, z_target        \n",
    "\n"
   ]
  },
  {
   "cell_type": "code",
   "execution_count": 4,
   "metadata": {},
   "outputs": [
    {
     "name": "stderr",
     "output_type": "stream",
     "text": [
      "epoch:0 current target accuracy:43.94%:   2%|▏         | 1/50 [00:17<14:15, 17.47s/it]"
     ]
    },
    {
     "name": "stdout",
     "output_type": "stream",
     "text": [
      "epoch [1/50], loss:2.6156\n",
      "accuracy source: 78.73%\n",
      "accuracy target: 43.91%\n"
     ]
    },
    {
     "name": "stderr",
     "output_type": "stream",
     "text": [
      "epoch:1 current target accuracy:69.58%:   4%|▍         | 2/50 [00:35<14:00, 17.51s/it]"
     ]
    },
    {
     "name": "stdout",
     "output_type": "stream",
     "text": [
      "epoch [2/50], loss:1.1773\n",
      "accuracy source: 95.87%\n",
      "accuracy target: 69.53%\n"
     ]
    },
    {
     "name": "stderr",
     "output_type": "stream",
     "text": [
      "epoch:2 current target accuracy:78.19%:   6%|▌         | 3/50 [00:52<13:45, 17.56s/it]"
     ]
    },
    {
     "name": "stdout",
     "output_type": "stream",
     "text": [
      "epoch [3/50], loss:1.0576\n",
      "accuracy source: 97.34%\n",
      "accuracy target: 78.14%\n"
     ]
    },
    {
     "name": "stderr",
     "output_type": "stream",
     "text": [
      "epoch:3 current target accuracy:83.36%:   8%|▊         | 4/50 [01:10<13:29, 17.59s/it]"
     ]
    },
    {
     "name": "stdout",
     "output_type": "stream",
     "text": [
      "epoch [4/50], loss:0.9964\n",
      "accuracy source: 98.0%\n",
      "accuracy target: 83.31%\n"
     ]
    },
    {
     "name": "stderr",
     "output_type": "stream",
     "text": [
      "epoch:4 current target accuracy:87.64%:  10%|█         | 5/50 [01:27<13:11, 17.58s/it]"
     ]
    },
    {
     "name": "stdout",
     "output_type": "stream",
     "text": [
      "epoch [5/50], loss:0.9475\n",
      "accuracy source: 98.3%\n",
      "accuracy target: 87.58%\n"
     ]
    },
    {
     "name": "stderr",
     "output_type": "stream",
     "text": [
      "epoch:5 current target accuracy:89.45%:  12%|█▏        | 6/50 [01:45<12:51, 17.53s/it]"
     ]
    },
    {
     "name": "stdout",
     "output_type": "stream",
     "text": [
      "epoch [6/50], loss:0.9223\n",
      "accuracy source: 98.46%\n",
      "accuracy target: 89.39%\n"
     ]
    },
    {
     "name": "stderr",
     "output_type": "stream",
     "text": [
      "epoch:6 current target accuracy:91.77%:  14%|█▍        | 7/50 [02:02<12:31, 17.47s/it]"
     ]
    },
    {
     "name": "stdout",
     "output_type": "stream",
     "text": [
      "epoch [7/50], loss:0.8999\n",
      "accuracy source: 98.46%\n",
      "accuracy target: 91.71%\n"
     ]
    },
    {
     "name": "stderr",
     "output_type": "stream",
     "text": [
      "epoch:7 current target accuracy:91.32%:  16%|█▌        | 8/50 [02:19<12:11, 17.41s/it]"
     ]
    },
    {
     "name": "stdout",
     "output_type": "stream",
     "text": [
      "epoch [8/50], loss:0.8441\n",
      "accuracy source: 98.83%\n",
      "accuracy target: 91.26%\n"
     ]
    },
    {
     "name": "stderr",
     "output_type": "stream",
     "text": [
      "epoch:8 current target accuracy:91.67%:  18%|█▊        | 9/50 [02:37<11:52, 17.37s/it]"
     ]
    },
    {
     "name": "stdout",
     "output_type": "stream",
     "text": [
      "epoch [9/50], loss:0.8503\n",
      "accuracy source: 98.81%\n",
      "accuracy target: 91.61%\n"
     ]
    },
    {
     "name": "stderr",
     "output_type": "stream",
     "text": [
      "epoch:9 current target accuracy:92.91%:  20%|██        | 10/50 [02:54<11:33, 17.33s/it]"
     ]
    },
    {
     "name": "stdout",
     "output_type": "stream",
     "text": [
      "epoch [10/50], loss:0.8066\n",
      "accuracy source: 99.04%\n",
      "accuracy target: 92.85%\n"
     ]
    },
    {
     "name": "stderr",
     "output_type": "stream",
     "text": [
      "epoch:10 current target accuracy:93.06%:  22%|██▏       | 11/50 [03:11<11:15, 17.31s/it]"
     ]
    },
    {
     "name": "stdout",
     "output_type": "stream",
     "text": [
      "epoch [11/50], loss:0.8093\n",
      "accuracy source: 98.89%\n",
      "accuracy target: 93.0%\n"
     ]
    },
    {
     "name": "stderr",
     "output_type": "stream",
     "text": [
      "epoch:11 current target accuracy:94.47%:  24%|██▍       | 12/50 [03:28<10:57, 17.31s/it]"
     ]
    },
    {
     "name": "stdout",
     "output_type": "stream",
     "text": [
      "epoch [12/50], loss:0.7903\n",
      "accuracy source: 99.03%\n",
      "accuracy target: 94.41%\n"
     ]
    },
    {
     "name": "stderr",
     "output_type": "stream",
     "text": [
      "epoch:12 current target accuracy:93.73%:  26%|██▌       | 13/50 [03:46<10:39, 17.29s/it]"
     ]
    },
    {
     "name": "stdout",
     "output_type": "stream",
     "text": [
      "epoch [13/50], loss:0.7732\n",
      "accuracy source: 98.88%\n",
      "accuracy target: 93.67%\n"
     ]
    },
    {
     "name": "stderr",
     "output_type": "stream",
     "text": [
      "epoch:13 current target accuracy:94.53%:  28%|██▊       | 14/50 [04:03<10:22, 17.28s/it]"
     ]
    },
    {
     "name": "stdout",
     "output_type": "stream",
     "text": [
      "epoch [14/50], loss:0.7604\n",
      "accuracy source: 99.15%\n",
      "accuracy target: 94.46%\n"
     ]
    },
    {
     "name": "stderr",
     "output_type": "stream",
     "text": [
      "epoch:14 current target accuracy:94.66%:  30%|███       | 15/50 [04:20<10:04, 17.28s/it]"
     ]
    },
    {
     "name": "stdout",
     "output_type": "stream",
     "text": [
      "epoch [15/50], loss:0.7396\n",
      "accuracy source: 99.16%\n",
      "accuracy target: 94.6%\n"
     ]
    },
    {
     "name": "stderr",
     "output_type": "stream",
     "text": [
      "epoch:15 current target accuracy:94.99%:  32%|███▏      | 16/50 [04:38<09:48, 17.32s/it]"
     ]
    },
    {
     "name": "stdout",
     "output_type": "stream",
     "text": [
      "epoch [16/50], loss:0.7254\n",
      "accuracy source: 99.25%\n",
      "accuracy target: 94.93%\n"
     ]
    },
    {
     "name": "stderr",
     "output_type": "stream",
     "text": [
      "epoch:16 current target accuracy:94.83%:  34%|███▍      | 17/50 [04:55<09:31, 17.32s/it]"
     ]
    },
    {
     "name": "stdout",
     "output_type": "stream",
     "text": [
      "epoch [17/50], loss:0.7362\n",
      "accuracy source: 98.99%\n",
      "accuracy target: 94.76%\n"
     ]
    },
    {
     "name": "stderr",
     "output_type": "stream",
     "text": [
      "epoch:17 current target accuracy:94.9%:  36%|███▌      | 18/50 [05:12<09:15, 17.35s/it] "
     ]
    },
    {
     "name": "stdout",
     "output_type": "stream",
     "text": [
      "epoch [18/50], loss:0.7337\n",
      "accuracy source: 99.14%\n",
      "accuracy target: 94.83%\n"
     ]
    },
    {
     "name": "stderr",
     "output_type": "stream",
     "text": [
      "epoch:18 current target accuracy:94.64%:  38%|███▊      | 19/50 [05:30<08:58, 17.36s/it]"
     ]
    },
    {
     "name": "stdout",
     "output_type": "stream",
     "text": [
      "epoch [19/50], loss:0.7017\n",
      "accuracy source: 99.4%\n",
      "accuracy target: 94.57%\n"
     ]
    },
    {
     "name": "stderr",
     "output_type": "stream",
     "text": [
      "epoch:19 current target accuracy:95.24%:  40%|████      | 20/50 [05:47<08:41, 17.37s/it]"
     ]
    },
    {
     "name": "stdout",
     "output_type": "stream",
     "text": [
      "epoch [20/50], loss:0.7102\n",
      "accuracy source: 99.26%\n",
      "accuracy target: 95.18%\n"
     ]
    },
    {
     "name": "stderr",
     "output_type": "stream",
     "text": [
      "epoch:20 current target accuracy:95.08%:  42%|████▏     | 21/50 [06:05<08:24, 17.38s/it]"
     ]
    },
    {
     "name": "stdout",
     "output_type": "stream",
     "text": [
      "epoch [21/50], loss:0.6882\n",
      "accuracy source: 99.36%\n",
      "accuracy target: 95.01%\n"
     ]
    },
    {
     "name": "stderr",
     "output_type": "stream",
     "text": [
      "epoch:21 current target accuracy:95.45%:  44%|████▍     | 22/50 [06:22<08:06, 17.38s/it]"
     ]
    },
    {
     "name": "stdout",
     "output_type": "stream",
     "text": [
      "epoch [22/50], loss:0.6938\n",
      "accuracy source: 99.36%\n",
      "accuracy target: 95.38%\n"
     ]
    },
    {
     "name": "stderr",
     "output_type": "stream",
     "text": [
      "epoch:22 current target accuracy:95.75%:  46%|████▌     | 23/50 [06:39<07:49, 17.38s/it]"
     ]
    },
    {
     "name": "stdout",
     "output_type": "stream",
     "text": [
      "epoch [23/50], loss:0.7010\n",
      "accuracy source: 99.19%\n",
      "accuracy target: 95.68%\n"
     ]
    },
    {
     "name": "stderr",
     "output_type": "stream",
     "text": [
      "epoch:23 current target accuracy:95.97%:  48%|████▊     | 24/50 [06:57<07:32, 17.39s/it]"
     ]
    },
    {
     "name": "stdout",
     "output_type": "stream",
     "text": [
      "epoch [24/50], loss:0.6858\n",
      "accuracy source: 99.22%\n",
      "accuracy target: 95.9%\n"
     ]
    },
    {
     "name": "stderr",
     "output_type": "stream",
     "text": [
      "epoch:24 current target accuracy:96.56%:  50%|█████     | 25/50 [07:14<07:14, 17.39s/it]"
     ]
    },
    {
     "name": "stdout",
     "output_type": "stream",
     "text": [
      "epoch [25/50], loss:0.6775\n",
      "accuracy source: 99.44%\n",
      "accuracy target: 96.49%\n"
     ]
    },
    {
     "name": "stderr",
     "output_type": "stream",
     "text": [
      "epoch:25 current target accuracy:95.35%:  52%|█████▏    | 26/50 [07:32<06:57, 17.38s/it]"
     ]
    },
    {
     "name": "stdout",
     "output_type": "stream",
     "text": [
      "epoch [26/50], loss:0.6682\n",
      "accuracy source: 99.42%\n",
      "accuracy target: 95.29%\n"
     ]
    },
    {
     "name": "stderr",
     "output_type": "stream",
     "text": [
      "epoch:26 current target accuracy:95.72%:  54%|█████▍    | 27/50 [07:49<06:39, 17.38s/it]"
     ]
    },
    {
     "name": "stdout",
     "output_type": "stream",
     "text": [
      "epoch [27/50], loss:0.6745\n",
      "accuracy source: 99.47%\n",
      "accuracy target: 95.66%\n"
     ]
    },
    {
     "name": "stderr",
     "output_type": "stream",
     "text": [
      "epoch:27 current target accuracy:96.43%:  56%|█████▌    | 28/50 [08:06<06:22, 17.38s/it]"
     ]
    },
    {
     "name": "stdout",
     "output_type": "stream",
     "text": [
      "epoch [28/50], loss:0.6658\n",
      "accuracy source: 99.36%\n",
      "accuracy target: 96.37%\n"
     ]
    },
    {
     "name": "stderr",
     "output_type": "stream",
     "text": [
      "epoch:28 current target accuracy:96.49%:  58%|█████▊    | 29/50 [08:24<06:04, 17.38s/it]"
     ]
    },
    {
     "name": "stdout",
     "output_type": "stream",
     "text": [
      "epoch [29/50], loss:0.6692\n",
      "accuracy source: 99.4%\n",
      "accuracy target: 96.42%\n"
     ]
    },
    {
     "name": "stderr",
     "output_type": "stream",
     "text": [
      "epoch:29 current target accuracy:95.91%:  60%|██████    | 30/50 [08:41<05:47, 17.37s/it]"
     ]
    },
    {
     "name": "stdout",
     "output_type": "stream",
     "text": [
      "epoch [30/50], loss:0.6635\n",
      "accuracy source: 99.53%\n",
      "accuracy target: 95.85%\n"
     ]
    },
    {
     "name": "stderr",
     "output_type": "stream",
     "text": [
      "epoch:30 current target accuracy:96.27%:  62%|██████▏   | 31/50 [08:58<05:30, 17.37s/it]"
     ]
    },
    {
     "name": "stdout",
     "output_type": "stream",
     "text": [
      "epoch [31/50], loss:0.6638\n",
      "accuracy source: 99.49%\n",
      "accuracy target: 96.2%\n"
     ]
    },
    {
     "name": "stderr",
     "output_type": "stream",
     "text": [
      "epoch:31 current target accuracy:95.95%:  64%|██████▍   | 32/50 [09:16<05:12, 17.37s/it]"
     ]
    },
    {
     "name": "stdout",
     "output_type": "stream",
     "text": [
      "epoch [32/50], loss:0.6501\n",
      "accuracy source: 99.56%\n",
      "accuracy target: 95.89%\n"
     ]
    },
    {
     "name": "stderr",
     "output_type": "stream",
     "text": [
      "epoch:32 current target accuracy:96.16%:  66%|██████▌   | 33/50 [09:33<04:55, 17.38s/it]"
     ]
    },
    {
     "name": "stdout",
     "output_type": "stream",
     "text": [
      "epoch [33/50], loss:0.6567\n",
      "accuracy source: 99.48%\n",
      "accuracy target: 96.09%\n"
     ]
    },
    {
     "name": "stderr",
     "output_type": "stream",
     "text": [
      "epoch:33 current target accuracy:95.45%:  68%|██████▊   | 34/50 [09:50<04:37, 17.37s/it]"
     ]
    },
    {
     "name": "stdout",
     "output_type": "stream",
     "text": [
      "epoch [34/50], loss:0.6549\n",
      "accuracy source: 99.49%\n",
      "accuracy target: 95.38%\n"
     ]
    },
    {
     "name": "stderr",
     "output_type": "stream",
     "text": [
      "epoch:34 current target accuracy:96.19%:  70%|███████   | 35/50 [10:08<04:20, 17.36s/it]"
     ]
    },
    {
     "name": "stdout",
     "output_type": "stream",
     "text": [
      "epoch [35/50], loss:0.6609\n",
      "accuracy source: 99.37%\n",
      "accuracy target: 96.12%\n"
     ]
    },
    {
     "name": "stderr",
     "output_type": "stream",
     "text": [
      "epoch:35 current target accuracy:96.09%:  72%|███████▏  | 36/50 [10:25<04:03, 17.36s/it]"
     ]
    },
    {
     "name": "stdout",
     "output_type": "stream",
     "text": [
      "epoch [36/50], loss:0.6460\n",
      "accuracy source: 99.59%\n",
      "accuracy target: 96.03%\n"
     ]
    },
    {
     "name": "stderr",
     "output_type": "stream",
     "text": [
      "epoch:36 current target accuracy:96.06%:  74%|███████▍  | 37/50 [10:43<03:45, 17.36s/it]"
     ]
    },
    {
     "name": "stdout",
     "output_type": "stream",
     "text": [
      "epoch [37/50], loss:0.6572\n",
      "accuracy source: 99.38%\n",
      "accuracy target: 96.0%\n"
     ]
    },
    {
     "name": "stderr",
     "output_type": "stream",
     "text": [
      "epoch:37 current target accuracy:95.95%:  76%|███████▌  | 38/50 [11:00<03:28, 17.37s/it]"
     ]
    },
    {
     "name": "stdout",
     "output_type": "stream",
     "text": [
      "epoch [38/50], loss:0.6458\n",
      "accuracy source: 99.41%\n",
      "accuracy target: 95.89%\n"
     ]
    },
    {
     "name": "stderr",
     "output_type": "stream",
     "text": [
      "epoch:38 current target accuracy:95.25%:  78%|███████▊  | 39/50 [11:17<03:11, 17.38s/it]"
     ]
    },
    {
     "name": "stdout",
     "output_type": "stream",
     "text": [
      "epoch [39/50], loss:0.6708\n",
      "accuracy source: 99.27%\n",
      "accuracy target: 95.19%\n"
     ]
    },
    {
     "name": "stderr",
     "output_type": "stream",
     "text": [
      "epoch:39 current target accuracy:95.84%:  80%|████████  | 40/50 [11:30<02:39, 15.99s/it]"
     ]
    },
    {
     "name": "stdout",
     "output_type": "stream",
     "text": [
      "epoch [40/50], loss:0.6382\n",
      "accuracy source: 99.52%\n",
      "accuracy target: 95.78%\n"
     ]
    },
    {
     "name": "stderr",
     "output_type": "stream",
     "text": [
      "epoch:40 current target accuracy:96.35%:  82%|████████▏ | 41/50 [11:40<02:08, 14.29s/it]"
     ]
    },
    {
     "name": "stdout",
     "output_type": "stream",
     "text": [
      "epoch [41/50], loss:0.6370\n",
      "accuracy source: 99.45%\n",
      "accuracy target: 96.29%\n"
     ]
    },
    {
     "name": "stderr",
     "output_type": "stream",
     "text": [
      "epoch:41 current target accuracy:96.38%:  84%|████████▍ | 42/50 [11:49<01:41, 12.70s/it]"
     ]
    },
    {
     "name": "stdout",
     "output_type": "stream",
     "text": [
      "epoch [42/50], loss:0.6417\n",
      "accuracy source: 99.57%\n",
      "accuracy target: 96.31%\n"
     ]
    },
    {
     "name": "stderr",
     "output_type": "stream",
     "text": [
      "epoch:42 current target accuracy:96.52%:  86%|████████▌ | 43/50 [11:58<01:21, 11.59s/it]"
     ]
    },
    {
     "name": "stdout",
     "output_type": "stream",
     "text": [
      "epoch [43/50], loss:0.6595\n",
      "accuracy source: 99.38%\n",
      "accuracy target: 96.45%\n"
     ]
    },
    {
     "name": "stderr",
     "output_type": "stream",
     "text": [
      "epoch:43 current target accuracy:96.5%:  88%|████████▊ | 44/50 [12:07<01:04, 10.81s/it] "
     ]
    },
    {
     "name": "stdout",
     "output_type": "stream",
     "text": [
      "epoch [44/50], loss:0.6261\n",
      "accuracy source: 99.57%\n",
      "accuracy target: 96.44%\n"
     ]
    },
    {
     "name": "stderr",
     "output_type": "stream",
     "text": [
      "epoch:44 current target accuracy:95.86%:  90%|█████████ | 45/50 [12:16<00:51, 10.27s/it]"
     ]
    },
    {
     "name": "stdout",
     "output_type": "stream",
     "text": [
      "epoch [45/50], loss:0.6395\n",
      "accuracy source: 99.45%\n",
      "accuracy target: 95.79%\n"
     ]
    },
    {
     "name": "stderr",
     "output_type": "stream",
     "text": [
      "epoch:45 current target accuracy:96.76%:  92%|█████████▏| 46/50 [12:25<00:39,  9.88s/it]"
     ]
    },
    {
     "name": "stdout",
     "output_type": "stream",
     "text": [
      "epoch [46/50], loss:0.6104\n",
      "accuracy source: 99.59%\n",
      "accuracy target: 96.7%\n"
     ]
    },
    {
     "name": "stderr",
     "output_type": "stream",
     "text": [
      "epoch:46 current target accuracy:97.0%:  94%|█████████▍| 47/50 [12:34<00:28,  9.61s/it] "
     ]
    },
    {
     "name": "stdout",
     "output_type": "stream",
     "text": [
      "epoch [47/50], loss:0.6455\n",
      "accuracy source: 99.42%\n",
      "accuracy target: 96.93%\n"
     ]
    },
    {
     "name": "stderr",
     "output_type": "stream",
     "text": [
      "epoch:47 current target accuracy:96.52%:  96%|█████████▌| 48/50 [12:43<00:18,  9.42s/it]"
     ]
    },
    {
     "name": "stdout",
     "output_type": "stream",
     "text": [
      "epoch [48/50], loss:0.6186\n",
      "accuracy source: 99.56%\n",
      "accuracy target: 96.45%\n"
     ]
    },
    {
     "name": "stderr",
     "output_type": "stream",
     "text": [
      "epoch:48 current target accuracy:96.42%:  98%|█████████▊| 49/50 [12:52<00:09,  9.29s/it]"
     ]
    },
    {
     "name": "stdout",
     "output_type": "stream",
     "text": [
      "epoch [49/50], loss:0.6479\n",
      "accuracy source: 99.55%\n",
      "accuracy target: 96.35%\n"
     ]
    },
    {
     "name": "stderr",
     "output_type": "stream",
     "text": [
      "epoch:49 current target accuracy:96.97%: 100%|██████████| 50/50 [13:01<00:00, 15.64s/it]"
     ]
    },
    {
     "name": "stdout",
     "output_type": "stream",
     "text": [
      "epoch [50/50], loss:0.6493\n",
      "accuracy source: 99.36%\n",
      "accuracy target: 96.9%\n"
     ]
    },
    {
     "name": "stderr",
     "output_type": "stream",
     "text": [
      "\n"
     ]
    }
   ],
   "source": [
    "learning_rate = 5e-4\n",
    "\n",
    "source_train_loader, source_test_loader =  load_usps(img_size=32, augment=True, batch_size=64, shuffle=True, num_workers=2)\n",
    "target_train_loader, target_test_loader = load_mnist(img_size=32, augment=True, batch_size=64, shuffle=True, num_workers=2)\n",
    "\n",
    "encoder = Encoder(latent_space_dim=150, img_size=(1,32,32), nb_channels=1)\n",
    "\n",
    "conv_feat_size = encoder.conv_feat_size\n",
    "decoder_source = Decoder(latent_space_dim=300, conv_feat_size=conv_feat_size, nb_channels=1)\n",
    "decoder_target = Decoder(latent_space_dim=300, conv_feat_size=conv_feat_size, nb_channels=1)\n",
    "\n",
    "classifier = nn.Sequential(nn.Dropout2d(0),\n",
    "                         nn.Linear(in_features=150, out_features=10),\n",
    "                         nn.LogSoftmax(dim=1))\n",
    "\n",
    "model = DomainAdaptationNetwork(encoder, decoder_source, decoder_target, classifier).cuda()\n",
    "random_projector = ProjectorNetwork(latent_dim=150).cuda()\n",
    "optimizer = torch.optim.RMSprop(model.parameters(), lr=learning_rate, weight_decay=0.001)\n",
    "\n",
    "epochs = 50\n",
    "betas = np.linspace(0, 5, epochs)\n",
    "\n",
    "train_domain_adaptation(model, optimizer, random_projector, source_train_loader, target_train_loader,\n",
    "                                            epochs=50, betas=betas, gamma=0.5, delta=0.5)"
   ]
  },
  {
   "cell_type": "code",
   "execution_count": 5,
   "metadata": {},
   "outputs": [
    {
     "data": {
      "text/plain": [
       "0.9695"
      ]
     },
     "execution_count": 5,
     "metadata": {},
     "output_type": "execute_result"
    }
   ],
   "source": [
    "model.eval()\n",
    "test_network(model, target_test_loader) "
   ]
  },
  {
   "cell_type": "code",
   "execution_count": 7,
   "metadata": {},
   "outputs": [
    {
     "name": "stderr",
     "output_type": "stream",
     "text": [
      "epoch:0 current target accuracy:96.76%:   2%|▏         | 1/50 [00:08<07:16,  8.91s/it]"
     ]
    },
    {
     "name": "stdout",
     "output_type": "stream",
     "text": [
      "epoch [1/50], loss:0.5890\n",
      "accuracy source: 99.6%\n",
      "accuracy target: 96.7%\n"
     ]
    },
    {
     "name": "stderr",
     "output_type": "stream",
     "text": [
      "epoch:1 current target accuracy:97.17%:   4%|▍         | 2/50 [00:17<07:04,  8.83s/it]"
     ]
    },
    {
     "name": "stdout",
     "output_type": "stream",
     "text": [
      "epoch [2/50], loss:0.5617\n",
      "accuracy source: 99.79%\n",
      "accuracy target: 97.11%\n"
     ]
    },
    {
     "name": "stderr",
     "output_type": "stream",
     "text": [
      "epoch:2 current target accuracy:97.26%:   6%|▌         | 3/50 [00:26<06:54,  8.82s/it]"
     ]
    },
    {
     "name": "stdout",
     "output_type": "stream",
     "text": [
      "epoch [3/50], loss:0.5588\n",
      "accuracy source: 99.78%\n",
      "accuracy target: 97.19%\n"
     ]
    },
    {
     "name": "stderr",
     "output_type": "stream",
     "text": [
      "epoch:3 current target accuracy:97.44%:   8%|▊         | 4/50 [00:35<06:45,  8.82s/it]"
     ]
    },
    {
     "name": "stdout",
     "output_type": "stream",
     "text": [
      "epoch [4/50], loss:0.5597\n",
      "accuracy source: 99.75%\n",
      "accuracy target: 97.37%\n"
     ]
    },
    {
     "name": "stderr",
     "output_type": "stream",
     "text": [
      "epoch:4 current target accuracy:97.42%:  10%|█         | 5/50 [00:44<06:36,  8.82s/it]"
     ]
    },
    {
     "name": "stdout",
     "output_type": "stream",
     "text": [
      "epoch [5/50], loss:0.5501\n",
      "accuracy source: 99.78%\n",
      "accuracy target: 97.35%\n"
     ]
    },
    {
     "name": "stderr",
     "output_type": "stream",
     "text": [
      "epoch:5 current target accuracy:97.42%:  12%|█▏        | 6/50 [00:52<06:28,  8.84s/it]"
     ]
    },
    {
     "name": "stdout",
     "output_type": "stream",
     "text": [
      "epoch [6/50], loss:0.5506\n",
      "accuracy source: 99.85%\n",
      "accuracy target: 97.35%\n"
     ]
    },
    {
     "name": "stderr",
     "output_type": "stream",
     "text": [
      "epoch:6 current target accuracy:97.53%:  14%|█▍        | 7/50 [01:01<06:20,  8.85s/it]"
     ]
    },
    {
     "name": "stdout",
     "output_type": "stream",
     "text": [
      "epoch [7/50], loss:0.5474\n",
      "accuracy source: 99.78%\n",
      "accuracy target: 97.46%\n"
     ]
    },
    {
     "name": "stderr",
     "output_type": "stream",
     "text": [
      "epoch:7 current target accuracy:97.45%:  16%|█▌        | 8/50 [01:10<06:13,  8.90s/it]"
     ]
    },
    {
     "name": "stdout",
     "output_type": "stream",
     "text": [
      "epoch [8/50], loss:0.5452\n",
      "accuracy source: 99.75%\n",
      "accuracy target: 97.38%\n"
     ]
    },
    {
     "name": "stderr",
     "output_type": "stream",
     "text": [
      "epoch:8 current target accuracy:97.59%:  18%|█▊        | 9/50 [01:20<06:20,  9.28s/it]"
     ]
    },
    {
     "name": "stdout",
     "output_type": "stream",
     "text": [
      "epoch [9/50], loss:0.5448\n",
      "accuracy source: 99.77%\n",
      "accuracy target: 97.52%\n"
     ]
    },
    {
     "name": "stderr",
     "output_type": "stream",
     "text": [
      "epoch:9 current target accuracy:97.54%:  20%|██        | 10/50 [01:30<06:19,  9.48s/it]"
     ]
    },
    {
     "name": "stdout",
     "output_type": "stream",
     "text": [
      "epoch [10/50], loss:0.5399\n",
      "accuracy source: 99.81%\n",
      "accuracy target: 97.48%\n"
     ]
    },
    {
     "name": "stderr",
     "output_type": "stream",
     "text": [
      "epoch:10 current target accuracy:97.49%:  22%|██▏       | 11/50 [01:39<06:02,  9.31s/it]"
     ]
    },
    {
     "name": "stdout",
     "output_type": "stream",
     "text": [
      "epoch [11/50], loss:0.5385\n",
      "accuracy source: 99.89%\n",
      "accuracy target: 97.42%\n"
     ]
    },
    {
     "name": "stderr",
     "output_type": "stream",
     "text": [
      "epoch:11 current target accuracy:97.15%:  24%|██▍       | 12/50 [01:48<05:49,  9.19s/it]"
     ]
    },
    {
     "name": "stdout",
     "output_type": "stream",
     "text": [
      "epoch [12/50], loss:0.5379\n",
      "accuracy source: 99.88%\n",
      "accuracy target: 97.08%\n"
     ]
    },
    {
     "name": "stderr",
     "output_type": "stream",
     "text": [
      "epoch:12 current target accuracy:97.64%:  26%|██▌       | 13/50 [01:57<05:37,  9.11s/it]"
     ]
    },
    {
     "name": "stdout",
     "output_type": "stream",
     "text": [
      "epoch [13/50], loss:0.5384\n",
      "accuracy source: 99.77%\n",
      "accuracy target: 97.57%\n"
     ]
    },
    {
     "name": "stderr",
     "output_type": "stream",
     "text": [
      "epoch:13 current target accuracy:97.56%:  28%|██▊       | 14/50 [02:06<05:25,  9.05s/it]"
     ]
    },
    {
     "name": "stdout",
     "output_type": "stream",
     "text": [
      "epoch [14/50], loss:0.5373\n",
      "accuracy source: 99.85%\n",
      "accuracy target: 97.49%\n"
     ]
    },
    {
     "name": "stderr",
     "output_type": "stream",
     "text": [
      "epoch:14 current target accuracy:97.72%:  30%|███       | 15/50 [02:15<05:15,  9.03s/it]"
     ]
    },
    {
     "name": "stdout",
     "output_type": "stream",
     "text": [
      "epoch [15/50], loss:0.5355\n",
      "accuracy source: 99.89%\n",
      "accuracy target: 97.66%\n"
     ]
    },
    {
     "name": "stderr",
     "output_type": "stream",
     "text": [
      "epoch:15 current target accuracy:97.48%:  32%|███▏      | 16/50 [02:24<05:05,  8.99s/it]"
     ]
    },
    {
     "name": "stdout",
     "output_type": "stream",
     "text": [
      "epoch [16/50], loss:0.5348\n",
      "accuracy source: 99.85%\n",
      "accuracy target: 97.41%\n"
     ]
    },
    {
     "name": "stderr",
     "output_type": "stream",
     "text": [
      "epoch:16 current target accuracy:97.39%:  34%|███▍      | 17/50 [02:33<04:55,  8.97s/it]"
     ]
    },
    {
     "name": "stdout",
     "output_type": "stream",
     "text": [
      "epoch [17/50], loss:0.5317\n",
      "accuracy source: 99.86%\n",
      "accuracy target: 97.33%\n"
     ]
    },
    {
     "name": "stderr",
     "output_type": "stream",
     "text": [
      "epoch:17 current target accuracy:97.48%:  36%|███▌      | 18/50 [02:42<04:46,  8.95s/it]"
     ]
    },
    {
     "name": "stdout",
     "output_type": "stream",
     "text": [
      "epoch [18/50], loss:0.5342\n",
      "accuracy source: 99.81%\n",
      "accuracy target: 97.41%\n"
     ]
    },
    {
     "name": "stderr",
     "output_type": "stream",
     "text": [
      "epoch:18 current target accuracy:97.6%:  38%|███▊      | 19/50 [02:51<04:37,  8.94s/it] "
     ]
    },
    {
     "name": "stdout",
     "output_type": "stream",
     "text": [
      "epoch [19/50], loss:0.5336\n",
      "accuracy source: 99.79%\n",
      "accuracy target: 97.53%\n"
     ]
    },
    {
     "name": "stderr",
     "output_type": "stream",
     "text": [
      "epoch:19 current target accuracy:97.85%:  40%|████      | 20/50 [03:00<04:28,  8.94s/it]"
     ]
    },
    {
     "name": "stdout",
     "output_type": "stream",
     "text": [
      "epoch [20/50], loss:0.5287\n",
      "accuracy source: 99.86%\n",
      "accuracy target: 97.78%\n"
     ]
    },
    {
     "name": "stderr",
     "output_type": "stream",
     "text": [
      "epoch:20 current target accuracy:97.83%:  42%|████▏     | 21/50 [03:09<04:18,  8.93s/it]"
     ]
    },
    {
     "name": "stdout",
     "output_type": "stream",
     "text": [
      "epoch [21/50], loss:0.5324\n",
      "accuracy source: 99.79%\n",
      "accuracy target: 97.77%\n"
     ]
    },
    {
     "name": "stderr",
     "output_type": "stream",
     "text": [
      "epoch:21 current target accuracy:97.74%:  44%|████▍     | 22/50 [03:17<04:09,  8.93s/it]"
     ]
    },
    {
     "name": "stdout",
     "output_type": "stream",
     "text": [
      "epoch [22/50], loss:0.5279\n",
      "accuracy source: 99.86%\n",
      "accuracy target: 97.67%\n"
     ]
    },
    {
     "name": "stderr",
     "output_type": "stream",
     "text": [
      "epoch:22 current target accuracy:97.87%:  46%|████▌     | 23/50 [03:26<04:01,  8.93s/it]"
     ]
    },
    {
     "name": "stdout",
     "output_type": "stream",
     "text": [
      "epoch [23/50], loss:0.5267\n",
      "accuracy source: 99.9%\n",
      "accuracy target: 97.81%\n"
     ]
    },
    {
     "name": "stderr",
     "output_type": "stream",
     "text": [
      "epoch:23 current target accuracy:97.52%:  48%|████▊     | 24/50 [03:35<03:52,  8.93s/it]"
     ]
    },
    {
     "name": "stdout",
     "output_type": "stream",
     "text": [
      "epoch [24/50], loss:0.5314\n",
      "accuracy source: 99.77%\n",
      "accuracy target: 97.45%\n"
     ]
    },
    {
     "name": "stderr",
     "output_type": "stream",
     "text": [
      "epoch:24 current target accuracy:97.87%:  50%|█████     | 25/50 [03:44<03:43,  8.93s/it]"
     ]
    },
    {
     "name": "stdout",
     "output_type": "stream",
     "text": [
      "epoch [25/50], loss:0.5262\n",
      "accuracy source: 99.84%\n",
      "accuracy target: 97.81%\n"
     ]
    },
    {
     "name": "stderr",
     "output_type": "stream",
     "text": [
      "epoch:25 current target accuracy:97.56%:  52%|█████▏    | 26/50 [03:53<03:34,  8.93s/it]"
     ]
    },
    {
     "name": "stdout",
     "output_type": "stream",
     "text": [
      "epoch [26/50], loss:0.5274\n",
      "accuracy source: 99.82%\n",
      "accuracy target: 97.49%\n"
     ]
    },
    {
     "name": "stderr",
     "output_type": "stream",
     "text": [
      "epoch:26 current target accuracy:98.13%:  54%|█████▍    | 27/50 [04:02<03:25,  8.92s/it]"
     ]
    },
    {
     "name": "stdout",
     "output_type": "stream",
     "text": [
      "epoch [27/50], loss:0.5209\n",
      "accuracy source: 99.88%\n",
      "accuracy target: 98.07%\n"
     ]
    },
    {
     "name": "stderr",
     "output_type": "stream",
     "text": [
      "epoch:27 current target accuracy:97.96%:  56%|█████▌    | 28/50 [04:11<03:16,  8.92s/it]"
     ]
    },
    {
     "name": "stdout",
     "output_type": "stream",
     "text": [
      "epoch [28/50], loss:0.5269\n",
      "accuracy source: 99.79%\n",
      "accuracy target: 97.89%\n"
     ]
    },
    {
     "name": "stderr",
     "output_type": "stream",
     "text": [
      "epoch:28 current target accuracy:97.76%:  58%|█████▊    | 29/50 [04:20<03:07,  8.92s/it]"
     ]
    },
    {
     "name": "stdout",
     "output_type": "stream",
     "text": [
      "epoch [29/50], loss:0.5221\n",
      "accuracy source: 99.86%\n",
      "accuracy target: 97.7%\n"
     ]
    },
    {
     "name": "stderr",
     "output_type": "stream",
     "text": [
      "epoch:29 current target accuracy:97.65%:  60%|██████    | 30/50 [04:29<02:58,  8.91s/it]"
     ]
    },
    {
     "name": "stdout",
     "output_type": "stream",
     "text": [
      "epoch [30/50], loss:0.5251\n",
      "accuracy source: 99.84%\n",
      "accuracy target: 97.59%\n"
     ]
    },
    {
     "name": "stderr",
     "output_type": "stream",
     "text": [
      "epoch:30 current target accuracy:97.96%:  62%|██████▏   | 31/50 [04:38<02:49,  8.91s/it]"
     ]
    },
    {
     "name": "stdout",
     "output_type": "stream",
     "text": [
      "epoch [31/50], loss:0.5210\n",
      "accuracy source: 99.85%\n",
      "accuracy target: 97.89%\n"
     ]
    },
    {
     "name": "stderr",
     "output_type": "stream",
     "text": [
      "epoch:31 current target accuracy:98.0%:  64%|██████▍   | 32/50 [04:47<02:40,  8.91s/it] "
     ]
    },
    {
     "name": "stdout",
     "output_type": "stream",
     "text": [
      "epoch [32/50], loss:0.5195\n",
      "accuracy source: 99.89%\n",
      "accuracy target: 97.93%\n"
     ]
    },
    {
     "name": "stderr",
     "output_type": "stream",
     "text": [
      "epoch:32 current target accuracy:97.75%:  66%|██████▌   | 33/50 [04:56<02:31,  8.91s/it]"
     ]
    },
    {
     "name": "stdout",
     "output_type": "stream",
     "text": [
      "epoch [33/50], loss:0.5200\n",
      "accuracy source: 99.89%\n",
      "accuracy target: 97.68%\n"
     ]
    },
    {
     "name": "stderr",
     "output_type": "stream",
     "text": [
      "epoch:33 current target accuracy:97.64%:  68%|██████▊   | 34/50 [05:04<02:22,  8.91s/it]"
     ]
    },
    {
     "name": "stdout",
     "output_type": "stream",
     "text": [
      "epoch [34/50], loss:0.5227\n",
      "accuracy source: 99.84%\n",
      "accuracy target: 97.57%\n"
     ]
    },
    {
     "name": "stderr",
     "output_type": "stream",
     "text": [
      "epoch:34 current target accuracy:97.87%:  70%|███████   | 35/50 [05:13<02:13,  8.91s/it]"
     ]
    },
    {
     "name": "stdout",
     "output_type": "stream",
     "text": [
      "epoch [35/50], loss:0.5185\n",
      "accuracy source: 99.89%\n",
      "accuracy target: 97.81%\n"
     ]
    },
    {
     "name": "stderr",
     "output_type": "stream",
     "text": [
      "epoch:35 current target accuracy:97.82%:  72%|███████▏  | 36/50 [05:22<02:04,  8.91s/it]"
     ]
    },
    {
     "name": "stdout",
     "output_type": "stream",
     "text": [
      "epoch [36/50], loss:0.5209\n",
      "accuracy source: 99.89%\n",
      "accuracy target: 97.75%\n"
     ]
    },
    {
     "name": "stderr",
     "output_type": "stream",
     "text": [
      "epoch:36 current target accuracy:97.67%:  74%|███████▍  | 37/50 [05:31<01:55,  8.92s/it]"
     ]
    },
    {
     "name": "stdout",
     "output_type": "stream",
     "text": [
      "epoch [37/50], loss:0.5225\n",
      "accuracy source: 99.79%\n",
      "accuracy target: 97.6%\n"
     ]
    },
    {
     "name": "stderr",
     "output_type": "stream",
     "text": [
      "epoch:37 current target accuracy:97.82%:  76%|███████▌  | 38/50 [05:40<01:46,  8.92s/it]"
     ]
    },
    {
     "name": "stdout",
     "output_type": "stream",
     "text": [
      "epoch [38/50], loss:0.5166\n",
      "accuracy source: 99.9%\n",
      "accuracy target: 97.75%\n"
     ]
    },
    {
     "name": "stderr",
     "output_type": "stream",
     "text": [
      "epoch:38 current target accuracy:97.98%:  78%|███████▊  | 39/50 [05:49<01:38,  8.92s/it]"
     ]
    },
    {
     "name": "stdout",
     "output_type": "stream",
     "text": [
      "epoch [39/50], loss:0.5216\n",
      "accuracy source: 99.88%\n",
      "accuracy target: 97.92%\n"
     ]
    },
    {
     "name": "stderr",
     "output_type": "stream",
     "text": [
      "epoch:39 current target accuracy:97.65%:  80%|████████  | 40/50 [05:58<01:29,  8.92s/it]"
     ]
    },
    {
     "name": "stdout",
     "output_type": "stream",
     "text": [
      "epoch [40/50], loss:0.5180\n",
      "accuracy source: 99.85%\n",
      "accuracy target: 97.59%\n"
     ]
    },
    {
     "name": "stderr",
     "output_type": "stream",
     "text": [
      "epoch:40 current target accuracy:97.76%:  82%|████████▏ | 41/50 [06:07<01:20,  8.91s/it]"
     ]
    },
    {
     "name": "stdout",
     "output_type": "stream",
     "text": [
      "epoch [41/50], loss:0.5202\n",
      "accuracy source: 99.82%\n",
      "accuracy target: 97.7%\n"
     ]
    },
    {
     "name": "stderr",
     "output_type": "stream",
     "text": [
      "epoch:41 current target accuracy:97.44%:  84%|████████▍ | 42/50 [06:16<01:11,  8.91s/it]"
     ]
    },
    {
     "name": "stdout",
     "output_type": "stream",
     "text": [
      "epoch [42/50], loss:0.5199\n",
      "accuracy source: 99.86%\n",
      "accuracy target: 97.37%\n"
     ]
    },
    {
     "name": "stderr",
     "output_type": "stream",
     "text": [
      "epoch:42 current target accuracy:97.48%:  86%|████████▌ | 43/50 [06:25<01:02,  8.92s/it]"
     ]
    },
    {
     "name": "stdout",
     "output_type": "stream",
     "text": [
      "epoch [43/50], loss:0.5208\n",
      "accuracy source: 99.82%\n",
      "accuracy target: 97.41%\n"
     ]
    },
    {
     "name": "stderr",
     "output_type": "stream",
     "text": [
      "epoch:43 current target accuracy:97.92%:  88%|████████▊ | 44/50 [06:34<00:53,  8.91s/it]"
     ]
    },
    {
     "name": "stdout",
     "output_type": "stream",
     "text": [
      "epoch [44/50], loss:0.5162\n",
      "accuracy source: 99.86%\n",
      "accuracy target: 97.85%\n"
     ]
    },
    {
     "name": "stderr",
     "output_type": "stream",
     "text": [
      "epoch:44 current target accuracy:97.92%:  90%|█████████ | 45/50 [06:43<00:44,  8.91s/it]"
     ]
    },
    {
     "name": "stdout",
     "output_type": "stream",
     "text": [
      "epoch [45/50], loss:0.5171\n",
      "accuracy source: 99.89%\n",
      "accuracy target: 97.85%\n"
     ]
    },
    {
     "name": "stderr",
     "output_type": "stream",
     "text": [
      "epoch:45 current target accuracy:97.89%:  92%|█████████▏| 46/50 [06:51<00:35,  8.92s/it]"
     ]
    },
    {
     "name": "stdout",
     "output_type": "stream",
     "text": [
      "epoch [46/50], loss:0.5139\n",
      "accuracy source: 99.86%\n",
      "accuracy target: 97.82%\n"
     ]
    },
    {
     "name": "stderr",
     "output_type": "stream",
     "text": [
      "epoch:46 current target accuracy:97.98%:  94%|█████████▍| 47/50 [07:00<00:26,  8.92s/it]"
     ]
    },
    {
     "name": "stdout",
     "output_type": "stream",
     "text": [
      "epoch [47/50], loss:0.5137\n",
      "accuracy source: 99.88%\n",
      "accuracy target: 97.92%\n"
     ]
    },
    {
     "name": "stderr",
     "output_type": "stream",
     "text": [
      "epoch:47 current target accuracy:97.78%:  96%|█████████▌| 48/50 [07:09<00:17,  8.91s/it]"
     ]
    },
    {
     "name": "stdout",
     "output_type": "stream",
     "text": [
      "epoch [48/50], loss:0.5132\n",
      "accuracy source: 99.86%\n",
      "accuracy target: 97.71%\n"
     ]
    },
    {
     "name": "stderr",
     "output_type": "stream",
     "text": [
      "epoch:48 current target accuracy:98.13%:  98%|█████████▊| 49/50 [07:18<00:08,  8.91s/it]"
     ]
    },
    {
     "name": "stdout",
     "output_type": "stream",
     "text": [
      "epoch [49/50], loss:0.5188\n",
      "accuracy source: 99.81%\n",
      "accuracy target: 98.07%\n"
     ]
    },
    {
     "name": "stderr",
     "output_type": "stream",
     "text": [
      "epoch:49 current target accuracy:97.75%: 100%|██████████| 50/50 [07:27<00:00,  8.95s/it]"
     ]
    },
    {
     "name": "stdout",
     "output_type": "stream",
     "text": [
      "epoch [50/50], loss:0.5187\n",
      "accuracy source: 99.79%\n",
      "accuracy target: 97.68%\n"
     ]
    },
    {
     "name": "stderr",
     "output_type": "stream",
     "text": [
      "\n"
     ]
    }
   ],
   "source": [
    "optimizer = torch.optim.RMSprop(model.parameters(), lr=5e-5, weight_decay=0.001)\n",
    "\n",
    "epochs = 50\n",
    "betas = np.ones(epochs) * 5\n",
    "\n",
    "train_domain_adaptation(model, optimizer, random_projector, source_train_loader, target_train_loader,\n",
    "                                            epochs=50, betas=betas, gamma=0.5, delta=0.5)"
   ]
  },
  {
   "cell_type": "code",
   "execution_count": 8,
   "metadata": {},
   "outputs": [
    {
     "data": {
      "text/plain": [
       "0.9887"
      ]
     },
     "execution_count": 8,
     "metadata": {},
     "output_type": "execute_result"
    }
   ],
   "source": [
    "model.eval()\n",
    "test_network(model, target_test_loader)  "
   ]
  },
  {
   "cell_type": "code",
   "execution_count": 10,
   "metadata": {},
   "outputs": [
    {
     "data": {
      "image/png": "[encoded data removed]",
      "text/plain": [
       "<Figure size 432x288 with 6 Axes>"
      ]
     },
     "metadata": {
      "needs_background": "light"
     },
     "output_type": "display_data"
    },
    {
     "data": {
      "image/png": "[encoded data removed]",
      "text/plain": [
       "<Figure size 432x288 with 6 Axes>"
      ]
     },
     "metadata": {
      "needs_background": "light"
     },
     "output_type": "display_data"
    },
    {
     "data": {
      "image/png": "[encoded data removed]",
      "text/plain": [
       "<Figure size 432x288 with 6 Axes>"
      ]
     },
     "metadata": {
      "needs_background": "light"
     },
     "output_type": "display_data"
    },
    {
     "data": {
      "image/png": "[encoded data removed]",
      "text/plain": [
       "<Figure size 432x288 with 6 Axes>"
      ]
     },
     "metadata": {
      "needs_background": "light"
     },
     "output_type": "display_data"
    },
    {
     "data": {
      "image/png": "[encoded data removed]",
      "text/plain": [
       "<Figure size 432x288 with 6 Axes>"
      ]
     },
     "metadata": {
      "needs_background": "light"
     },
     "output_type": "display_data"
    },
    {
     "data": {
      "image/png": "[encoded data removed]",
      "text/plain": [
       "<Figure size 432x288 with 6 Axes>"
      ]
     },
     "metadata": {
      "needs_background": "light"
     },
     "output_type": "display_data"
    },
    {
     "data": {
      "image/png": "[encoded data removed]",
      "text/plain": [
       "<Figure size 432x288 with 6 Axes>"
      ]
     },
     "metadata": {
      "needs_background": "light"
     },
     "output_type": "display_data"
    },
    {
     "data": {
      "image/png": "[encoded data removed]",
      "text/plain": [
       "<Figure size 432x288 with 6 Axes>"
      ]
     },
     "metadata": {
      "needs_background": "light"
     },
     "output_type": "display_data"
    },
    {
     "data": {
      "image/png": "[encoded data removed]",
      "text/plain": [
       "<Figure size 432x288 with 6 Axes>"
      ]
     },
     "metadata": {
      "needs_background": "light"
     },
     "output_type": "display_data"
    },
    {
     "data": {
      "image/png": "[encoded data removed]",
      "text/plain": [
       "<Figure size 432x288 with 6 Axes>"
      ]
     },
     "metadata": {
      "needs_background": "light"
     },
     "output_type": "display_data"
    },
    {
     "data": {
      "image/png": "[encoded data removed]",
      "text/plain": [
       "<Figure size 432x288 with 6 Axes>"
      ]
     },
     "metadata": {
      "needs_background": "light"
     },
     "output_type": "display_data"
    }
   ],
   "source": [
    "plot_target_cross_domain_swapping(model, source_train_loader, target_train_loader)"
   ]
  },
  {
   "cell_type": "code",
   "execution_count": null,
   "metadata": {},
   "outputs": [],
   "source": [
    "torch.save(model, \"usps_to_mnist.pth\")"
   ]
  },
  {
   "cell_type": "code",
   "execution_count": null,
   "metadata": {},
   "outputs": [],
   "source": []
  }
 ],
 "metadata": {
  "kernelspec": {
   "display_name": "Python 3",
   "language": "python",
   "name": "python3"
  },
  "language_info": {
   "codemirror_mode": {
    "name": "ipython",
    "version": 3
   },
   "file_extension": ".py",
   "mimetype": "text/x-python",
   "name": "python",
   "nbconvert_exporter": "python",
   "pygments_lexer": "ipython3",
   "version": "3.6.12"
  }
 },
 "nbformat": 4,
 "nbformat_minor": 4
}
