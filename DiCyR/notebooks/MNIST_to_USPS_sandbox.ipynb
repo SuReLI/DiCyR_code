{
 "cells": [
  {
   "cell_type": "code",
   "execution_count": 1,
   "metadata": {},
   "outputs": [],
   "source": [
    "import sys\n",
    "sys.path.append(\"../\")\n",
    "\n",
    "from torch import nn\n",
    "from data_utils import load_mnist, load_usps\n",
    "from models import DomainAdaptationNetwork, ProjectorNetwork\n",
    "\n",
    "import torch\n",
    "from torch.nn import functional as F\n",
    "import numpy as np\n",
    "from train import train_domain_adaptation\n",
    "from utils import test_network, plot_target_cross_domain_swapping, plot_tsne"
   ]
  },
  {
   "cell_type": "code",
   "execution_count": 2,
   "metadata": {},
   "outputs": [],
   "source": [
    "torch.manual_seed(0)\n",
    "import numpy as np\n",
    "np.random.seed(0)\n",
    "torch.backends.cudnn.deterministic = True\n",
    "torch.backends.cudnn.benchmark = False"
   ]
  },
  {
   "cell_type": "code",
   "execution_count": 3,
   "metadata": {},
   "outputs": [],
   "source": [
    "class Decoder(nn.Module):\n",
    "    def __init__(self, latent_space_dim, conv_feat_size, nb_channels=3):\n",
    "        super(Decoder, self).__init__()\n",
    "\n",
    "        self.latent_space_dim = latent_space_dim\n",
    "        self.conv_feat_size = conv_feat_size\n",
    "\n",
    "        self.deco_dense = nn.Sequential(\n",
    "            nn.Linear(in_features=latent_space_dim, out_features=1024),\n",
    "            nn.ReLU(True),\n",
    "            nn.Linear(in_features=1024, out_features=np.prod(self.conv_feat_size)),\n",
    "            nn.ReLU(True),\n",
    "        )\n",
    "\n",
    "        self.deco_fetures = nn.Sequential(\n",
    "            nn.Conv2d(in_channels=self.conv_feat_size[0], out_channels=75, kernel_size=3, padding=1),\n",
    "            nn.ReLU(True),\n",
    "            nn.Upsample(scale_factor=2),\n",
    "            nn.Conv2d(in_channels=75, out_channels=50, kernel_size=5, padding=2),\n",
    "            nn.ReLU(True),\n",
    "            nn.Upsample(scale_factor=2),\n",
    "            nn.Conv2d(in_channels=50, out_channels=1, kernel_size=5, padding=2),\n",
    "            nn.Sigmoid()\n",
    "        )\n",
    "\n",
    "    def forward(self, z_task, z_spe):\n",
    "        z = torch.cat([z_task, z_spe], 1)\n",
    "        feat_encode = self.deco_dense(z)\n",
    "        feat_encode = feat_encode.view(-1, *self.conv_feat_size)\n",
    "        y = self.deco_fetures(feat_encode)\n",
    "\n",
    "        return y\n",
    "\n",
    "\n",
    "class Encoder(nn.Module):\n",
    "    def __init__(self, latent_space_dim, img_size, nb_channels=3):\n",
    "        super(Encoder, self).__init__()\n",
    "\n",
    "        self.latent_space_dim = latent_space_dim\n",
    "        self.nb_channels = nb_channels\n",
    "\n",
    "        self.conv_feat = nn.Sequential(\n",
    "            nn.Conv2d(in_channels=1, out_channels=50, kernel_size=5, padding=2),\n",
    "            nn.ReLU(True),\n",
    "            nn.BatchNorm2d(50),\n",
    "            nn.MaxPool2d(kernel_size=2, stride=2),\n",
    "            nn.Conv2d(in_channels=50, out_channels=75, kernel_size=5, padding=2),\n",
    "            nn.ReLU(True),\n",
    "            nn.BatchNorm2d(75),\n",
    "            nn.MaxPool2d(kernel_size=2, stride=2),\n",
    "            nn.Conv2d(in_channels=75, out_channels=100, kernel_size=3, padding=1),\n",
    "            nn.ReLU(True),\n",
    "            nn.BatchNorm2d(100),\n",
    "        )\n",
    "\n",
    "        self.conv_feat_size = self.conv_feat(torch.zeros(1, *img_size)).shape[1:]\n",
    "        self.dense_feature_size = np.prod(self.conv_feat_size)\n",
    "\n",
    "        self.dense_feat = nn.Linear(in_features=self.dense_feature_size, out_features=1024)\n",
    "        self.task_feat = nn.Linear(in_features=1024, out_features=latent_space_dim)\n",
    "        self.source_feat = nn.Linear(in_features=1024, out_features=latent_space_dim)\n",
    "        self.target_feat = nn.Linear(in_features=1024, out_features=latent_space_dim)\n",
    "\n",
    "    def forward(self, input_data, mode='all'):\n",
    "        if (input_data.shape[1] == 1) & (self.nb_channels == 3):\n",
    "            input_data = input_data.repeat(1, 3, 1, 1)\n",
    "        feat = self.conv_feat(input_data)\n",
    "        feat = feat.view(-1, self.dense_feature_size)\n",
    "        feat = F.relu(self.dense_feat(feat))\n",
    "        if mode == 'task':\n",
    "            z_task = F.relu(self.task_feat(feat))\n",
    "            return z_task\n",
    "        \n",
    "        elif mode == 'source':\n",
    "            z_source = F.relu(self.source_feat(feat))\n",
    "            return z_source\n",
    "        \n",
    "        elif mode == 'target':\n",
    "            z_target = F.relu(self.target_feat(feat))\n",
    "            return z_target\n",
    "        \n",
    "        else:\n",
    "            z_task = F.relu(self.task_feat(feat))\n",
    "            z_source = F.relu(self.source_feat(feat))\n",
    "            z_target = F.relu(self.target_feat(feat))\n",
    "            return z_task, z_source, z_target        \n"
   ]
  },
  {
   "cell_type": "code",
   "execution_count": 4,
   "metadata": {},
   "outputs": [],
   "source": [
    "import torch\n",
    "import numpy as np\n",
    "from torch import nn\n",
    "from tqdm import tqdm\n",
    "from utils import show_decoded_images\n",
    "from models import GradReverse\n",
    "\n",
    "criterion_reconstruction = nn.BCELoss()\n",
    "criterion_classifier = nn.NLLLoss(reduction='mean')\n",
    "criterion_weighted_classifier = nn.NLLLoss(reduction='none')\n",
    "criterion_disentangle = nn.MSELoss()\n",
    "criterion_distance = nn.MSELoss()\n",
    "criterion_triplet = nn.TripletMarginLoss(margin=1)\n",
    "\n",
    "criterion_reconstruction = nn.BCELoss()\n",
    "disentangle_criterion = nn.MSELoss()\n",
    "criterion_classifier = nn.NLLLoss(reduction='mean')\n",
    "criterion_triplet = nn.TripletMarginLoss(margin=1)\n",
    "\n",
    "def train_domain_adaptation(model, optimizer, random_projector, source_train_loader, target_train_loader, betas,\n",
    "                            alpha=1, gamma=1, delta=0.1, epochs=30, show_images=False):\n",
    "\n",
    "    t = tqdm(range(epochs))\n",
    "    for epoch in t:\n",
    "        total_loss = 0\n",
    "        corrects_source, corrects_target = 0, 0\n",
    "        total_source, total_target = 0, 0\n",
    "\n",
    "        # random images used for disentanglement\n",
    "        #xs_rand = next(iter(source_train_loader))[0].cuda()\n",
    "        #xt_rand = next(iter(target_train_loader))[0].cuda()\n",
    "\n",
    "        for (x_s, y_s), (x_t, y_t) in zip(source_train_loader, target_train_loader):\n",
    "            loss = 0\n",
    "            x_s, y_s, x_t, y_t = x_s.cuda(), y_s.cuda(), x_t.cuda(), y_t.cuda()\n",
    "            min_len = min(len(x_s), len(x_t))\n",
    "            x_s, y_s, x_t, y_t = x_s[:min_len], y_s[:min_len], x_t[:min_len], y_t[:min_len]\n",
    "            # target batch\n",
    "            xt_hat, yt_hat, (z_task, z_target), (pred_task, pred_spe) = model(x_t, mode='all_target')\n",
    "            #Random projection to reduce the dimension\n",
    "            random_task = random_projector(GradReverse.grad_reverse(z_task))\n",
    "            random_spe = random_projector(GradReverse.grad_reverse(z_target))\n",
    "            \n",
    "            # synthetic sample with task information from x_t and style info from xs_rand\n",
    "            xts = model.decode(z_task, x_s[:len(x_t)], mode='source')\n",
    "            z_s = model.encoder(xts.detach(), mode='task')\n",
    "            z_target_prime = model.encoder(torch.flip(x_t, [0])[:len(x_t)], mode='target')\n",
    "            xt_prime = model.decoder_target(z_task, z_target_prime)\n",
    "            yt_tilde, z_target_tilde = model.forward(xt_prime, mode='target')\n",
    "\n",
    "            w, predicted = yt_hat.max(1)\n",
    "            corrects_target += predicted.eq(y_t).sum().item()\n",
    "            total_target += y_t.size(0)\n",
    "\n",
    "            loss += alpha * criterion_reconstruction(xt_hat, x_t)\n",
    "            loss += betas[epoch] * criterion_distance(z_task, z_s)\n",
    "            loss += gamma * (criterion_disentangle(pred_task, random_task) + criterion_disentangle(pred_spe, random_spe))\n",
    "            loss += 0.1 * torch.mean((torch.exp(w.detach()) * criterion_weighted_classifier(yt_tilde, predicted.detach())))\n",
    "            loss += delta[epoch] * criterion_triplet(z_target_tilde, z_target_prime, z_target)\n",
    "\n",
    "            # source batch\n",
    "            xs_hat, ys_hat, (z_task, z_source), (pred_task, pred_spe) = model(x_s, mode='all_source')\n",
    "            #Random projection to reduce the dimension\n",
    "            random_task = random_projector(GradReverse.grad_reverse(z_task))\n",
    "            random_spe = random_projector(GradReverse.grad_reverse(z_source))\n",
    "            \n",
    "            # synthetic sample with task information from x_s and style info from xt_rand\n",
    "            xst = model.decode(z_task, x_t[:len(x_s)], mode='target')\n",
    "            z_t = model.encoder(xst.detach(), mode='task')\n",
    "            z_source_prime = model.encoder(torch.flip(x_s, [0])[:len(x_s)], mode='source')\n",
    "            xs_prime = model.decoder_source(z_task, z_source_prime)\n",
    "            ys_tilde, z_source_tilde = model(xs_prime, mode='source')\n",
    "\n",
    "            _, predicted = ys_hat.max(1)\n",
    "            corrects_source += predicted.eq(y_s).sum().item()\n",
    "            total_source += y_s.size(0)\n",
    "\n",
    "            loss += criterion_classifier(ys_hat, y_s)\n",
    "            loss += alpha * criterion_reconstruction(xs_hat, x_s)\n",
    "            loss += betas[epoch] * criterion_distance(z_task, z_t)\n",
    "            loss += gamma * (criterion_disentangle(pred_task, random_task) + criterion_disentangle(pred_spe, random_spe))\n",
    "            loss += 0.1 * criterion_classifier(ys_tilde, y_s.cuda())\n",
    "            loss += delta[epoch] * criterion_triplet(z_source_tilde, z_source_prime, z_source)\n",
    "\n",
    "            optimizer.zero_grad()\n",
    "            loss.backward()\n",
    "            optimizer.step()\n",
    "            total_loss += float(loss.data)\n",
    "            t.set_description(f'epoch:{epoch} current target accuracy:{round(corrects_target / total_source * 100, 2)}%')\n",
    "        # ===================log========================\n",
    "        print('epoch [{}/{}], loss:{:.4f}'.format(epoch + 1, epochs, total_loss / len(source_train_loader)))\n",
    "        print(f'accuracy source: {round(corrects_source / total_source * 100, 2)}%')\n",
    "        print(f'accuracy target: {round(corrects_target / total_target * 100, 2)}%')\n",
    "        if show_images:\n",
    "            show_decoded_images(x_s[:16], xs_hat[:16], x_t[:len(x_s)][:16], xst[:16])\n",
    "            show_decoded_images(x_t[:16], xt_hat[:16], x_s[:len(x_t)][:16], xts[:16])"
   ]
  },
  {
   "cell_type": "code",
   "execution_count": 20,
   "metadata": {},
   "outputs": [
    {
     "name": "stderr",
     "output_type": "stream",
     "text": [
      "epoch:0 current target accuracy:42.94%:   2%|▏         | 1/50 [00:10<08:31, 10.45s/it]"
     ]
    },
    {
     "name": "stdout",
     "output_type": "stream",
     "text": [
      "epoch [1/50], loss:0.4947\n",
      "accuracy source: 54.68%\n",
      "accuracy target: 42.94%\n"
     ]
    },
    {
     "name": "stderr",
     "output_type": "stream",
     "text": [
      "epoch:1 current target accuracy:79.7%:   4%|▍         | 2/50 [00:20<08:21, 10.45s/it] "
     ]
    },
    {
     "name": "stdout",
     "output_type": "stream",
     "text": [
      "epoch [2/50], loss:0.3910\n",
      "accuracy source: 91.41%\n",
      "accuracy target: 79.7%\n"
     ]
    },
    {
     "name": "stderr",
     "output_type": "stream",
     "text": [
      "epoch:2 current target accuracy:84.35%:   6%|▌         | 3/50 [00:31<08:11, 10.46s/it]"
     ]
    },
    {
     "name": "stdout",
     "output_type": "stream",
     "text": [
      "epoch [3/50], loss:0.3790\n",
      "accuracy source: 95.14%\n",
      "accuracy target: 84.35%\n"
     ]
    },
    {
     "name": "stderr",
     "output_type": "stream",
     "text": [
      "epoch:3 current target accuracy:82.38%:   8%|▊         | 4/50 [00:41<08:01, 10.47s/it]"
     ]
    },
    {
     "name": "stdout",
     "output_type": "stream",
     "text": [
      "epoch [4/50], loss:0.3559\n",
      "accuracy source: 96.04%\n",
      "accuracy target: 82.38%\n"
     ]
    },
    {
     "name": "stderr",
     "output_type": "stream",
     "text": [
      "epoch:4 current target accuracy:80.89%:  10%|█         | 5/50 [00:52<07:50, 10.47s/it]"
     ]
    },
    {
     "name": "stdout",
     "output_type": "stream",
     "text": [
      "epoch [5/50], loss:0.3574\n",
      "accuracy source: 96.43%\n",
      "accuracy target: 80.89%\n"
     ]
    },
    {
     "name": "stderr",
     "output_type": "stream",
     "text": [
      "epoch:5 current target accuracy:85.34%:  12%|█▏        | 6/50 [01:02<07:39, 10.45s/it]"
     ]
    },
    {
     "name": "stdout",
     "output_type": "stream",
     "text": [
      "epoch [6/50], loss:0.3595\n",
      "accuracy source: 97.44%\n",
      "accuracy target: 85.34%\n"
     ]
    },
    {
     "name": "stderr",
     "output_type": "stream",
     "text": [
      "epoch:6 current target accuracy:84.31%:  14%|█▍        | 7/50 [01:13<07:29, 10.44s/it]"
     ]
    },
    {
     "name": "stdout",
     "output_type": "stream",
     "text": [
      "epoch [7/50], loss:0.3571\n",
      "accuracy source: 97.04%\n",
      "accuracy target: 84.31%\n"
     ]
    },
    {
     "name": "stderr",
     "output_type": "stream",
     "text": [
      "epoch:7 current target accuracy:83.58%:  16%|█▌        | 8/50 [01:23<07:18, 10.43s/it]"
     ]
    },
    {
     "name": "stdout",
     "output_type": "stream",
     "text": [
      "epoch [8/50], loss:0.3400\n",
      "accuracy source: 97.52%\n",
      "accuracy target: 83.58%\n"
     ]
    },
    {
     "name": "stderr",
     "output_type": "stream",
     "text": [
      "epoch:8 current target accuracy:84.52%:  18%|█▊        | 9/50 [01:34<07:07, 10.44s/it]"
     ]
    },
    {
     "name": "stdout",
     "output_type": "stream",
     "text": [
      "epoch [9/50], loss:0.3386\n",
      "accuracy source: 97.71%\n",
      "accuracy target: 84.52%\n"
     ]
    },
    {
     "name": "stderr",
     "output_type": "stream",
     "text": [
      "epoch:9 current target accuracy:83.9%:  20%|██        | 10/50 [01:44<06:57, 10.44s/it]"
     ]
    },
    {
     "name": "stdout",
     "output_type": "stream",
     "text": [
      "epoch [10/50], loss:0.3454\n",
      "accuracy source: 97.44%\n",
      "accuracy target: 83.9%\n"
     ]
    },
    {
     "name": "stderr",
     "output_type": "stream",
     "text": [
      "epoch:10 current target accuracy:88.6%:  22%|██▏       | 11/50 [01:54<06:47, 10.44s/it] "
     ]
    },
    {
     "name": "stdout",
     "output_type": "stream",
     "text": [
      "epoch [11/50], loss:0.3463\n",
      "accuracy source: 97.72%\n",
      "accuracy target: 88.6%\n"
     ]
    },
    {
     "name": "stderr",
     "output_type": "stream",
     "text": [
      "epoch:11 current target accuracy:94.29%:  24%|██▍       | 12/50 [02:05<06:36, 10.43s/it]"
     ]
    },
    {
     "name": "stdout",
     "output_type": "stream",
     "text": [
      "epoch [12/50], loss:0.3429\n",
      "accuracy source: 98.12%\n",
      "accuracy target: 94.29%\n"
     ]
    },
    {
     "name": "stderr",
     "output_type": "stream",
     "text": [
      "epoch:12 current target accuracy:95.69%:  26%|██▌       | 13/50 [02:15<06:25, 10.42s/it]"
     ]
    },
    {
     "name": "stdout",
     "output_type": "stream",
     "text": [
      "epoch [13/50], loss:0.3443\n",
      "accuracy source: 98.08%\n",
      "accuracy target: 95.69%\n"
     ]
    },
    {
     "name": "stderr",
     "output_type": "stream",
     "text": [
      "epoch:13 current target accuracy:97.15%:  28%|██▊       | 14/50 [02:26<06:14, 10.41s/it]"
     ]
    },
    {
     "name": "stdout",
     "output_type": "stream",
     "text": [
      "epoch [14/50], loss:0.3459\n",
      "accuracy source: 97.97%\n",
      "accuracy target: 97.15%\n"
     ]
    },
    {
     "name": "stderr",
     "output_type": "stream",
     "text": [
      "epoch:14 current target accuracy:96.9%:  30%|███       | 15/50 [02:36<06:04, 10.43s/it] "
     ]
    },
    {
     "name": "stdout",
     "output_type": "stream",
     "text": [
      "epoch [15/50], loss:0.3412\n",
      "accuracy source: 98.18%\n",
      "accuracy target: 96.9%\n"
     ]
    },
    {
     "name": "stderr",
     "output_type": "stream",
     "text": [
      "epoch:15 current target accuracy:96.94%:  32%|███▏      | 16/50 [02:47<05:54, 10.43s/it]"
     ]
    },
    {
     "name": "stdout",
     "output_type": "stream",
     "text": [
      "epoch [16/50], loss:0.3429\n",
      "accuracy source: 98.33%\n",
      "accuracy target: 96.94%\n"
     ]
    },
    {
     "name": "stderr",
     "output_type": "stream",
     "text": [
      "epoch:16 current target accuracy:97.11%:  34%|███▍      | 17/50 [02:57<05:44, 10.44s/it]"
     ]
    },
    {
     "name": "stdout",
     "output_type": "stream",
     "text": [
      "epoch [17/50], loss:0.3417\n",
      "accuracy source: 98.51%\n",
      "accuracy target: 97.11%\n"
     ]
    },
    {
     "name": "stderr",
     "output_type": "stream",
     "text": [
      "epoch:17 current target accuracy:97.09%:  36%|███▌      | 18/50 [03:07<05:34, 10.44s/it]"
     ]
    },
    {
     "name": "stdout",
     "output_type": "stream",
     "text": [
      "epoch [18/50], loss:0.3477\n",
      "accuracy source: 98.34%\n",
      "accuracy target: 97.09%\n"
     ]
    },
    {
     "name": "stderr",
     "output_type": "stream",
     "text": [
      "epoch:18 current target accuracy:97.23%:  38%|███▊      | 19/50 [03:18<05:24, 10.45s/it]"
     ]
    },
    {
     "name": "stdout",
     "output_type": "stream",
     "text": [
      "epoch [19/50], loss:0.3442\n",
      "accuracy source: 98.37%\n",
      "accuracy target: 97.23%\n"
     ]
    },
    {
     "name": "stderr",
     "output_type": "stream",
     "text": [
      "epoch:19 current target accuracy:97.37%:  40%|████      | 20/50 [03:28<05:13, 10.46s/it]"
     ]
    },
    {
     "name": "stdout",
     "output_type": "stream",
     "text": [
      "epoch [20/50], loss:0.3458\n",
      "accuracy source: 98.57%\n",
      "accuracy target: 97.37%\n"
     ]
    },
    {
     "name": "stderr",
     "output_type": "stream",
     "text": [
      "epoch:20 current target accuracy:97.57%:  42%|████▏     | 21/50 [03:39<05:03, 10.46s/it]"
     ]
    },
    {
     "name": "stdout",
     "output_type": "stream",
     "text": [
      "epoch [21/50], loss:0.3461\n",
      "accuracy source: 98.48%\n",
      "accuracy target: 97.57%\n"
     ]
    },
    {
     "name": "stderr",
     "output_type": "stream",
     "text": [
      "epoch:21 current target accuracy:97.48%:  44%|████▍     | 22/50 [03:49<04:52, 10.45s/it]"
     ]
    },
    {
     "name": "stdout",
     "output_type": "stream",
     "text": [
      "epoch [22/50], loss:0.3469\n",
      "accuracy source: 98.4%\n",
      "accuracy target: 97.48%\n"
     ]
    },
    {
     "name": "stderr",
     "output_type": "stream",
     "text": [
      "epoch:22 current target accuracy:97.78%:  46%|████▌     | 23/50 [04:00<04:41, 10.43s/it]"
     ]
    },
    {
     "name": "stdout",
     "output_type": "stream",
     "text": [
      "epoch [23/50], loss:0.3510\n",
      "accuracy source: 98.27%\n",
      "accuracy target: 97.78%\n"
     ]
    },
    {
     "name": "stderr",
     "output_type": "stream",
     "text": [
      "epoch:23 current target accuracy:97.98%:  48%|████▊     | 24/50 [04:10<04:31, 10.42s/it]"
     ]
    },
    {
     "name": "stdout",
     "output_type": "stream",
     "text": [
      "epoch [24/50], loss:0.3412\n",
      "accuracy source: 98.46%\n",
      "accuracy target: 97.98%\n"
     ]
    },
    {
     "name": "stderr",
     "output_type": "stream",
     "text": [
      "epoch:24 current target accuracy:97.65%:  50%|█████     | 25/50 [04:20<04:20, 10.43s/it]"
     ]
    },
    {
     "name": "stdout",
     "output_type": "stream",
     "text": [
      "epoch [25/50], loss:0.3425\n",
      "accuracy source: 98.74%\n",
      "accuracy target: 97.65%\n"
     ]
    },
    {
     "name": "stderr",
     "output_type": "stream",
     "text": [
      "epoch:25 current target accuracy:98.12%:  52%|█████▏    | 26/50 [04:31<04:10, 10.43s/it]"
     ]
    },
    {
     "name": "stdout",
     "output_type": "stream",
     "text": [
      "epoch [26/50], loss:0.3410\n",
      "accuracy source: 98.66%\n",
      "accuracy target: 98.12%\n"
     ]
    },
    {
     "name": "stderr",
     "output_type": "stream",
     "text": [
      "epoch:26 current target accuracy:97.75%:  54%|█████▍    | 27/50 [04:41<04:00, 10.44s/it]"
     ]
    },
    {
     "name": "stdout",
     "output_type": "stream",
     "text": [
      "epoch [27/50], loss:0.3428\n",
      "accuracy source: 98.51%\n",
      "accuracy target: 97.75%\n"
     ]
    },
    {
     "name": "stderr",
     "output_type": "stream",
     "text": [
      "epoch:27 current target accuracy:97.98%:  56%|█████▌    | 28/50 [04:52<03:49, 10.43s/it]"
     ]
    },
    {
     "name": "stdout",
     "output_type": "stream",
     "text": [
      "epoch [28/50], loss:0.3390\n",
      "accuracy source: 98.77%\n",
      "accuracy target: 97.98%\n"
     ]
    },
    {
     "name": "stderr",
     "output_type": "stream",
     "text": [
      "epoch:28 current target accuracy:97.5%:  58%|█████▊    | 29/50 [05:02<03:39, 10.45s/it] "
     ]
    },
    {
     "name": "stdout",
     "output_type": "stream",
     "text": [
      "epoch [29/50], loss:0.3425\n",
      "accuracy source: 98.4%\n",
      "accuracy target: 97.5%\n"
     ]
    },
    {
     "name": "stderr",
     "output_type": "stream",
     "text": [
      "epoch:29 current target accuracy:94.16%:  60%|██████    | 30/50 [05:13<03:28, 10.43s/it]"
     ]
    },
    {
     "name": "stdout",
     "output_type": "stream",
     "text": [
      "epoch [30/50], loss:0.3401\n",
      "accuracy source: 98.51%\n",
      "accuracy target: 94.16%\n"
     ]
    },
    {
     "name": "stderr",
     "output_type": "stream",
     "text": [
      "epoch:30 current target accuracy:98.11%:  62%|██████▏   | 31/50 [05:23<03:18, 10.43s/it]"
     ]
    },
    {
     "name": "stdout",
     "output_type": "stream",
     "text": [
      "epoch [31/50], loss:0.3418\n",
      "accuracy source: 98.49%\n",
      "accuracy target: 98.11%\n"
     ]
    },
    {
     "name": "stderr",
     "output_type": "stream",
     "text": [
      "epoch:31 current target accuracy:97.7%:  64%|██████▍   | 32/50 [05:34<03:07, 10.44s/it] "
     ]
    },
    {
     "name": "stdout",
     "output_type": "stream",
     "text": [
      "epoch [32/50], loss:0.3396\n",
      "accuracy source: 98.82%\n",
      "accuracy target: 97.7%\n"
     ]
    },
    {
     "name": "stderr",
     "output_type": "stream",
     "text": [
      "epoch:32 current target accuracy:98.24%:  66%|██████▌   | 33/50 [05:44<02:57, 10.43s/it]"
     ]
    },
    {
     "name": "stdout",
     "output_type": "stream",
     "text": [
      "epoch [33/50], loss:0.3362\n",
      "accuracy source: 98.89%\n",
      "accuracy target: 98.24%\n"
     ]
    },
    {
     "name": "stderr",
     "output_type": "stream",
     "text": [
      "epoch:33 current target accuracy:97.93%:  68%|██████▊   | 34/50 [05:54<02:46, 10.42s/it]"
     ]
    },
    {
     "name": "stdout",
     "output_type": "stream",
     "text": [
      "epoch [34/50], loss:0.3402\n",
      "accuracy source: 98.63%\n",
      "accuracy target: 97.93%\n"
     ]
    },
    {
     "name": "stderr",
     "output_type": "stream",
     "text": [
      "epoch:34 current target accuracy:98.23%:  70%|███████   | 35/50 [06:05<02:36, 10.41s/it]"
     ]
    },
    {
     "name": "stdout",
     "output_type": "stream",
     "text": [
      "epoch [35/50], loss:0.3380\n",
      "accuracy source: 98.93%\n",
      "accuracy target: 98.23%\n"
     ]
    },
    {
     "name": "stderr",
     "output_type": "stream",
     "text": [
      "epoch:35 current target accuracy:98.34%:  72%|███████▏  | 36/50 [06:15<02:25, 10.42s/it]"
     ]
    },
    {
     "name": "stdout",
     "output_type": "stream",
     "text": [
      "epoch [36/50], loss:0.3394\n",
      "accuracy source: 99.01%\n",
      "accuracy target: 98.34%\n"
     ]
    },
    {
     "name": "stderr",
     "output_type": "stream",
     "text": [
      "epoch:36 current target accuracy:98.12%:  74%|███████▍  | 37/50 [06:26<02:15, 10.43s/it]"
     ]
    },
    {
     "name": "stdout",
     "output_type": "stream",
     "text": [
      "epoch [37/50], loss:0.3405\n",
      "accuracy source: 98.68%\n",
      "accuracy target: 98.12%\n"
     ]
    },
    {
     "name": "stderr",
     "output_type": "stream",
     "text": [
      "epoch:37 current target accuracy:98.22%:  76%|███████▌  | 38/50 [06:36<02:05, 10.43s/it]"
     ]
    },
    {
     "name": "stdout",
     "output_type": "stream",
     "text": [
      "epoch [38/50], loss:0.3423\n",
      "accuracy source: 98.81%\n",
      "accuracy target: 98.22%\n"
     ]
    },
    {
     "name": "stderr",
     "output_type": "stream",
     "text": [
      "epoch:38 current target accuracy:98.34%:  78%|███████▊  | 39/50 [06:47<01:54, 10.43s/it]"
     ]
    },
    {
     "name": "stdout",
     "output_type": "stream",
     "text": [
      "epoch [39/50], loss:0.3395\n",
      "accuracy source: 98.53%\n",
      "accuracy target: 98.34%\n"
     ]
    },
    {
     "name": "stderr",
     "output_type": "stream",
     "text": [
      "epoch:39 current target accuracy:98.22%:  80%|████████  | 40/50 [06:57<01:44, 10.44s/it]"
     ]
    },
    {
     "name": "stdout",
     "output_type": "stream",
     "text": [
      "epoch [40/50], loss:0.3421\n",
      "accuracy source: 98.66%\n",
      "accuracy target: 98.22%\n"
     ]
    },
    {
     "name": "stderr",
     "output_type": "stream",
     "text": [
      "epoch:40 current target accuracy:98.3%:  82%|████████▏ | 41/50 [07:07<01:33, 10.43s/it] "
     ]
    },
    {
     "name": "stdout",
     "output_type": "stream",
     "text": [
      "epoch [41/50], loss:0.3334\n",
      "accuracy source: 98.89%\n",
      "accuracy target: 98.3%\n"
     ]
    },
    {
     "name": "stderr",
     "output_type": "stream",
     "text": [
      "epoch:41 current target accuracy:97.92%:  84%|████████▍ | 42/50 [07:18<01:23, 10.43s/it]"
     ]
    },
    {
     "name": "stdout",
     "output_type": "stream",
     "text": [
      "epoch [42/50], loss:0.3364\n",
      "accuracy source: 98.51%\n",
      "accuracy target: 97.92%\n"
     ]
    },
    {
     "name": "stderr",
     "output_type": "stream",
     "text": [
      "epoch:42 current target accuracy:97.31%:  86%|████████▌ | 43/50 [07:28<01:13, 10.44s/it]"
     ]
    },
    {
     "name": "stdout",
     "output_type": "stream",
     "text": [
      "epoch [43/50], loss:0.3369\n",
      "accuracy source: 98.85%\n",
      "accuracy target: 97.31%\n"
     ]
    },
    {
     "name": "stderr",
     "output_type": "stream",
     "text": [
      "epoch:43 current target accuracy:97.9%:  88%|████████▊ | 44/50 [07:39<01:02, 10.45s/it] "
     ]
    },
    {
     "name": "stdout",
     "output_type": "stream",
     "text": [
      "epoch [44/50], loss:0.3344\n",
      "accuracy source: 98.79%\n",
      "accuracy target: 97.9%\n"
     ]
    },
    {
     "name": "stderr",
     "output_type": "stream",
     "text": [
      "epoch:44 current target accuracy:98.15%:  90%|█████████ | 45/50 [07:49<00:52, 10.45s/it]"
     ]
    },
    {
     "name": "stdout",
     "output_type": "stream",
     "text": [
      "epoch [45/50], loss:0.3375\n",
      "accuracy source: 98.64%\n",
      "accuracy target: 98.15%\n"
     ]
    },
    {
     "name": "stderr",
     "output_type": "stream",
     "text": [
      "epoch:45 current target accuracy:98.19%:  92%|█████████▏| 46/50 [08:00<00:41, 10.44s/it]"
     ]
    },
    {
     "name": "stdout",
     "output_type": "stream",
     "text": [
      "epoch [46/50], loss:0.3382\n",
      "accuracy source: 98.61%\n",
      "accuracy target: 98.19%\n"
     ]
    },
    {
     "name": "stderr",
     "output_type": "stream",
     "text": [
      "epoch:46 current target accuracy:97.89%:  94%|█████████▍| 47/50 [08:10<00:31, 10.45s/it]"
     ]
    },
    {
     "name": "stdout",
     "output_type": "stream",
     "text": [
      "epoch [47/50], loss:0.3357\n",
      "accuracy source: 99.05%\n",
      "accuracy target: 97.89%\n"
     ]
    },
    {
     "name": "stderr",
     "output_type": "stream",
     "text": [
      "epoch:47 current target accuracy:98.09%:  96%|█████████▌| 48/50 [08:21<00:20, 10.44s/it]"
     ]
    },
    {
     "name": "stdout",
     "output_type": "stream",
     "text": [
      "epoch [48/50], loss:0.3360\n",
      "accuracy source: 98.77%\n",
      "accuracy target: 98.09%\n"
     ]
    },
    {
     "name": "stderr",
     "output_type": "stream",
     "text": [
      "epoch:48 current target accuracy:98.24%:  98%|█████████▊| 49/50 [08:31<00:10, 10.44s/it]"
     ]
    },
    {
     "name": "stdout",
     "output_type": "stream",
     "text": [
      "epoch [49/50], loss:0.3363\n",
      "accuracy source: 98.77%\n",
      "accuracy target: 98.24%\n"
     ]
    },
    {
     "name": "stderr",
     "output_type": "stream",
     "text": [
      "epoch:49 current target accuracy:98.04%: 100%|██████████| 50/50 [08:41<00:00, 10.44s/it]"
     ]
    },
    {
     "name": "stdout",
     "output_type": "stream",
     "text": [
      "epoch [50/50], loss:0.3359\n",
      "accuracy source: 98.7%\n",
      "accuracy target: 98.04%\n"
     ]
    },
    {
     "name": "stderr",
     "output_type": "stream",
     "text": [
      "\n"
     ]
    }
   ],
   "source": [
    "learning_rate = 5e-4\n",
    "\n",
    "source_train_loader, source_test_loader = load_mnist(img_size=32, augment=True, batch_size=64, shuffle=True, num_workers=2) \n",
    "target_train_loader, target_test_loader = load_usps(img_size=32, augment=True, batch_size=64, shuffle=True, num_workers=2)\n",
    "\n",
    "encoder = Encoder(latent_space_dim=150, img_size=(1,32,32), nb_channels=1)\n",
    "\n",
    "conv_feat_size = encoder.conv_feat_size\n",
    "decoder_source = Decoder(latent_space_dim=300, conv_feat_size=conv_feat_size, nb_channels=1)\n",
    "decoder_target = Decoder(latent_space_dim=300, conv_feat_size=conv_feat_size, nb_channels=1)\n",
    "\n",
    "classifier = nn.Sequential(nn.Dropout2d(),\n",
    "                         nn.Linear(in_features=150, out_features=10),\n",
    "                         nn.LogSoftmax(dim=1))\n",
    "\n",
    "model = DomainAdaptationNetwork(encoder, decoder_source, decoder_target, classifier).cuda()\n",
    "random_projector = torch.cos\n",
    "optimizer = torch.optim.RMSprop(model.parameters(), lr=learning_rate, weight_decay=0.001)\n",
    "\n",
    "epochs = 50\n",
    "betas = np.linspace(0, 5, epochs)\n",
    "delta = np.linspace(0, 5, epochs)\n",
    "train_domain_adaptation(model, optimizer, random_projector, source_train_loader, target_train_loader,\n",
    "                                            epochs=50, betas=betas, gamma=0.5, delta=delta)"
   ]
  },
  {
   "cell_type": "code",
   "execution_count": 21,
   "metadata": {},
   "outputs": [
    {
     "name": "stdout",
     "output_type": "stream",
     "text": [
      "0.9872445480729667\n"
     ]
    },
    {
     "data": {
      "text/plain": [
       "DomainAdaptationNetwork(\n",
       "  (encoder): Encoder(\n",
       "    (conv_feat): Sequential(\n",
       "      (0): Conv2d(1, 50, kernel_size=(5, 5), stride=(1, 1), padding=(2, 2))\n",
       "      (1): ReLU(inplace=True)\n",
       "      (2): BatchNorm2d(50, eps=1e-05, momentum=0.1, affine=True, track_running_stats=True)\n",
       "      (3): MaxPool2d(kernel_size=2, stride=2, padding=0, dilation=1, ceil_mode=False)\n",
       "      (4): Conv2d(50, 75, kernel_size=(5, 5), stride=(1, 1), padding=(2, 2))\n",
       "      (5): ReLU(inplace=True)\n",
       "      (6): BatchNorm2d(75, eps=1e-05, momentum=0.1, affine=True, track_running_stats=True)\n",
       "      (7): MaxPool2d(kernel_size=2, stride=2, padding=0, dilation=1, ceil_mode=False)\n",
       "      (8): Conv2d(75, 100, kernel_size=(3, 3), stride=(1, 1), padding=(1, 1))\n",
       "      (9): ReLU(inplace=True)\n",
       "      (10): BatchNorm2d(100, eps=1e-05, momentum=0.1, affine=True, track_running_stats=True)\n",
       "    )\n",
       "    (dense_feat): Linear(in_features=6400, out_features=1024, bias=True)\n",
       "    (task_feat): Linear(in_features=1024, out_features=150, bias=True)\n",
       "    (source_feat): Linear(in_features=1024, out_features=150, bias=True)\n",
       "    (target_feat): Linear(in_features=1024, out_features=150, bias=True)\n",
       "  )\n",
       "  (decoder_source): Decoder(\n",
       "    (deco_dense): Sequential(\n",
       "      (0): Linear(in_features=300, out_features=1024, bias=True)\n",
       "      (1): ReLU(inplace=True)\n",
       "      (2): Linear(in_features=1024, out_features=6400, bias=True)\n",
       "      (3): ReLU(inplace=True)\n",
       "    )\n",
       "    (deco_fetures): Sequential(\n",
       "      (0): Conv2d(100, 75, kernel_size=(3, 3), stride=(1, 1), padding=(1, 1))\n",
       "      (1): ReLU(inplace=True)\n",
       "      (2): Upsample(scale_factor=2.0, mode=nearest)\n",
       "      (3): Conv2d(75, 50, kernel_size=(5, 5), stride=(1, 1), padding=(2, 2))\n",
       "      (4): ReLU(inplace=True)\n",
       "      (5): Upsample(scale_factor=2.0, mode=nearest)\n",
       "      (6): Conv2d(50, 1, kernel_size=(5, 5), stride=(1, 1), padding=(2, 2))\n",
       "      (7): Sigmoid()\n",
       "    )\n",
       "  )\n",
       "  (decoder_target): Decoder(\n",
       "    (deco_dense): Sequential(\n",
       "      (0): Linear(in_features=300, out_features=1024, bias=True)\n",
       "      (1): ReLU(inplace=True)\n",
       "      (2): Linear(in_features=1024, out_features=6400, bias=True)\n",
       "      (3): ReLU(inplace=True)\n",
       "    )\n",
       "    (deco_fetures): Sequential(\n",
       "      (0): Conv2d(100, 75, kernel_size=(3, 3), stride=(1, 1), padding=(1, 1))\n",
       "      (1): ReLU(inplace=True)\n",
       "      (2): Upsample(scale_factor=2.0, mode=nearest)\n",
       "      (3): Conv2d(75, 50, kernel_size=(5, 5), stride=(1, 1), padding=(2, 2))\n",
       "      (4): ReLU(inplace=True)\n",
       "      (5): Upsample(scale_factor=2.0, mode=nearest)\n",
       "      (6): Conv2d(50, 1, kernel_size=(5, 5), stride=(1, 1), padding=(2, 2))\n",
       "      (7): Sigmoid()\n",
       "    )\n",
       "  )\n",
       "  (classifier): Sequential(\n",
       "    (0): Dropout2d(p=0.5, inplace=False)\n",
       "    (1): Linear(in_features=150, out_features=10, bias=True)\n",
       "    (2): LogSoftmax(dim=1)\n",
       "  )\n",
       "  (random_source): ProjectorNetwork(\n",
       "    (net): Sequential(\n",
       "      (0): Linear(in_features=150, out_features=32, bias=True)\n",
       "    )\n",
       "  )\n",
       "  (random_target): ProjectorNetwork(\n",
       "    (net): Sequential(\n",
       "      (0): Linear(in_features=150, out_features=32, bias=True)\n",
       "    )\n",
       "  )\n",
       "  (random_task): ProjectorNetwork(\n",
       "    (net): Sequential(\n",
       "      (0): Linear(in_features=150, out_features=32, bias=True)\n",
       "    )\n",
       "  )\n",
       "  (spe_predictor): SelfProjectorNetwork(\n",
       "    (net): Sequential(\n",
       "      (0): Linear(in_features=150, out_features=75, bias=True)\n",
       "      (1): ReLU()\n",
       "      (2): Linear(in_features=75, out_features=75, bias=True)\n",
       "      (3): ReLU()\n",
       "      (4): Linear(in_features=75, out_features=150, bias=True)\n",
       "      (5): ReLU()\n",
       "    )\n",
       "  )\n",
       "  (task_predictor): SelfProjectorNetwork(\n",
       "    (net): Sequential(\n",
       "      (0): Linear(in_features=150, out_features=75, bias=True)\n",
       "      (1): ReLU()\n",
       "      (2): Linear(in_features=75, out_features=75, bias=True)\n",
       "      (3): ReLU()\n",
       "      (4): Linear(in_features=75, out_features=150, bias=True)\n",
       "      (5): ReLU()\n",
       "    )\n",
       "  )\n",
       ")"
      ]
     },
     "execution_count": 21,
     "metadata": {},
     "output_type": "execute_result"
    }
   ],
   "source": [
    "model.eval()\n",
    "print(test_network(model, target_test_loader)  )\n",
    "model.train()"
   ]
  },
  {
   "cell_type": "code",
   "execution_count": 22,
   "metadata": {},
   "outputs": [
    {
     "name": "stderr",
     "output_type": "stream",
     "text": [
      "epoch:0 current target accuracy:98.42%:   2%|▏         | 1/50 [00:10<08:30, 10.41s/it]"
     ]
    },
    {
     "name": "stdout",
     "output_type": "stream",
     "text": [
      "epoch [1/50], loss:0.3295\n",
      "accuracy source: 99.05%\n",
      "accuracy target: 98.42%\n"
     ]
    },
    {
     "name": "stderr",
     "output_type": "stream",
     "text": [
      "epoch:1 current target accuracy:98.59%:   4%|▍         | 2/50 [00:20<08:20, 10.42s/it]"
     ]
    },
    {
     "name": "stdout",
     "output_type": "stream",
     "text": [
      "epoch [2/50], loss:0.3289\n",
      "accuracy source: 99.16%\n",
      "accuracy target: 98.59%\n"
     ]
    },
    {
     "name": "stderr",
     "output_type": "stream",
     "text": [
      "epoch:2 current target accuracy:98.64%:   6%|▌         | 3/50 [00:31<08:09, 10.43s/it]"
     ]
    },
    {
     "name": "stdout",
     "output_type": "stream",
     "text": [
      "epoch [3/50], loss:0.3273\n",
      "accuracy source: 98.89%\n",
      "accuracy target: 98.64%\n"
     ]
    },
    {
     "name": "stderr",
     "output_type": "stream",
     "text": [
      "epoch:3 current target accuracy:98.71%:   8%|▊         | 4/50 [00:41<07:59, 10.43s/it]"
     ]
    },
    {
     "name": "stdout",
     "output_type": "stream",
     "text": [
      "epoch [4/50], loss:0.3241\n",
      "accuracy source: 99.18%\n",
      "accuracy target: 98.71%\n"
     ]
    },
    {
     "name": "stderr",
     "output_type": "stream",
     "text": [
      "epoch:4 current target accuracy:98.79%:  10%|█         | 5/50 [00:52<07:49, 10.44s/it]"
     ]
    },
    {
     "name": "stdout",
     "output_type": "stream",
     "text": [
      "epoch [5/50], loss:0.3246\n",
      "accuracy source: 99.2%\n",
      "accuracy target: 98.79%\n"
     ]
    },
    {
     "name": "stderr",
     "output_type": "stream",
     "text": [
      "epoch:5 current target accuracy:98.81%:  12%|█▏        | 6/50 [01:02<07:38, 10.43s/it]"
     ]
    },
    {
     "name": "stdout",
     "output_type": "stream",
     "text": [
      "epoch [6/50], loss:0.3241\n",
      "accuracy source: 99.22%\n",
      "accuracy target: 98.81%\n"
     ]
    },
    {
     "name": "stderr",
     "output_type": "stream",
     "text": [
      "epoch:6 current target accuracy:98.78%:  14%|█▍        | 7/50 [01:12<07:27, 10.42s/it]"
     ]
    },
    {
     "name": "stdout",
     "output_type": "stream",
     "text": [
      "epoch [7/50], loss:0.3224\n",
      "accuracy source: 99.25%\n",
      "accuracy target: 98.78%\n"
     ]
    },
    {
     "name": "stderr",
     "output_type": "stream",
     "text": [
      "epoch:7 current target accuracy:98.77%:  16%|█▌        | 8/50 [01:23<07:17, 10.42s/it]"
     ]
    },
    {
     "name": "stdout",
     "output_type": "stream",
     "text": [
      "epoch [8/50], loss:0.3214\n",
      "accuracy source: 99.27%\n",
      "accuracy target: 98.77%\n"
     ]
    },
    {
     "name": "stderr",
     "output_type": "stream",
     "text": [
      "epoch:8 current target accuracy:98.88%:  18%|█▊        | 9/50 [01:33<07:07, 10.42s/it]"
     ]
    },
    {
     "name": "stdout",
     "output_type": "stream",
     "text": [
      "epoch [9/50], loss:0.3222\n",
      "accuracy source: 99.36%\n",
      "accuracy target: 98.88%\n"
     ]
    },
    {
     "name": "stderr",
     "output_type": "stream",
     "text": [
      "epoch:9 current target accuracy:98.57%:  20%|██        | 10/50 [01:44<06:57, 10.43s/it]"
     ]
    },
    {
     "name": "stdout",
     "output_type": "stream",
     "text": [
      "epoch [10/50], loss:0.3219\n",
      "accuracy source: 99.16%\n",
      "accuracy target: 98.57%\n"
     ]
    },
    {
     "name": "stderr",
     "output_type": "stream",
     "text": [
      "epoch:10 current target accuracy:99.0%:  22%|██▏       | 11/50 [01:54<06:46, 10.43s/it] "
     ]
    },
    {
     "name": "stdout",
     "output_type": "stream",
     "text": [
      "epoch [11/50], loss:0.3219\n",
      "accuracy source: 99.34%\n",
      "accuracy target: 99.0%\n"
     ]
    },
    {
     "name": "stderr",
     "output_type": "stream",
     "text": [
      "epoch:11 current target accuracy:98.7%:  24%|██▍       | 12/50 [02:05<06:36, 10.43s/it] "
     ]
    },
    {
     "name": "stdout",
     "output_type": "stream",
     "text": [
      "epoch [12/50], loss:0.3216\n",
      "accuracy source: 99.29%\n",
      "accuracy target: 98.7%\n"
     ]
    },
    {
     "name": "stderr",
     "output_type": "stream",
     "text": [
      "epoch:12 current target accuracy:98.79%:  26%|██▌       | 13/50 [02:15<06:25, 10.43s/it]"
     ]
    },
    {
     "name": "stdout",
     "output_type": "stream",
     "text": [
      "epoch [13/50], loss:0.3213\n",
      "accuracy source: 99.26%\n",
      "accuracy target: 98.79%\n"
     ]
    },
    {
     "name": "stderr",
     "output_type": "stream",
     "text": [
      "epoch:13 current target accuracy:98.94%:  28%|██▊       | 14/50 [02:26<06:15, 10.43s/it]"
     ]
    },
    {
     "name": "stdout",
     "output_type": "stream",
     "text": [
      "epoch [14/50], loss:0.3222\n",
      "accuracy source: 99.14%\n",
      "accuracy target: 98.94%\n"
     ]
    },
    {
     "name": "stderr",
     "output_type": "stream",
     "text": [
      "epoch:14 current target accuracy:98.9%:  30%|███       | 15/50 [02:36<06:04, 10.42s/it] "
     ]
    },
    {
     "name": "stdout",
     "output_type": "stream",
     "text": [
      "epoch [15/50], loss:0.3204\n",
      "accuracy source: 99.47%\n",
      "accuracy target: 98.9%\n"
     ]
    },
    {
     "name": "stderr",
     "output_type": "stream",
     "text": [
      "epoch:15 current target accuracy:98.86%:  32%|███▏      | 16/50 [02:46<05:54, 10.43s/it]"
     ]
    },
    {
     "name": "stdout",
     "output_type": "stream",
     "text": [
      "epoch [16/50], loss:0.3221\n",
      "accuracy source: 99.27%\n",
      "accuracy target: 98.86%\n"
     ]
    },
    {
     "name": "stderr",
     "output_type": "stream",
     "text": [
      "epoch:16 current target accuracy:98.72%:  34%|███▍      | 17/50 [02:57<05:44, 10.44s/it]"
     ]
    },
    {
     "name": "stdout",
     "output_type": "stream",
     "text": [
      "epoch [17/50], loss:0.3222\n",
      "accuracy source: 99.22%\n",
      "accuracy target: 98.72%\n"
     ]
    },
    {
     "name": "stderr",
     "output_type": "stream",
     "text": [
      "epoch:17 current target accuracy:98.88%:  36%|███▌      | 18/50 [03:07<05:33, 10.43s/it]"
     ]
    },
    {
     "name": "stdout",
     "output_type": "stream",
     "text": [
      "epoch [18/50], loss:0.3207\n",
      "accuracy source: 99.22%\n",
      "accuracy target: 98.88%\n"
     ]
    },
    {
     "name": "stderr",
     "output_type": "stream",
     "text": [
      "epoch:18 current target accuracy:98.79%:  38%|███▊      | 19/50 [03:18<05:23, 10.43s/it]"
     ]
    },
    {
     "name": "stdout",
     "output_type": "stream",
     "text": [
      "epoch [19/50], loss:0.3217\n",
      "accuracy source: 99.16%\n",
      "accuracy target: 98.79%\n"
     ]
    },
    {
     "name": "stderr",
     "output_type": "stream",
     "text": [
      "epoch:19 current target accuracy:98.88%:  40%|████      | 20/50 [03:28<05:13, 10.44s/it]"
     ]
    },
    {
     "name": "stdout",
     "output_type": "stream",
     "text": [
      "epoch [20/50], loss:0.3210\n",
      "accuracy source: 99.25%\n",
      "accuracy target: 98.88%\n"
     ]
    },
    {
     "name": "stderr",
     "output_type": "stream",
     "text": [
      "epoch:20 current target accuracy:98.66%:  42%|████▏     | 21/50 [03:39<05:02, 10.42s/it]"
     ]
    },
    {
     "name": "stdout",
     "output_type": "stream",
     "text": [
      "epoch [21/50], loss:0.3220\n",
      "accuracy source: 99.37%\n",
      "accuracy target: 98.66%\n"
     ]
    },
    {
     "name": "stderr",
     "output_type": "stream",
     "text": [
      "epoch:21 current target accuracy:98.83%:  44%|████▍     | 22/50 [03:49<04:51, 10.43s/it]"
     ]
    },
    {
     "name": "stdout",
     "output_type": "stream",
     "text": [
      "epoch [22/50], loss:0.3218\n",
      "accuracy source: 99.34%\n",
      "accuracy target: 98.83%\n"
     ]
    },
    {
     "name": "stderr",
     "output_type": "stream",
     "text": [
      "epoch:22 current target accuracy:98.72%:  46%|████▌     | 23/50 [03:59<04:41, 10.44s/it]"
     ]
    },
    {
     "name": "stdout",
     "output_type": "stream",
     "text": [
      "epoch [23/50], loss:0.3210\n",
      "accuracy source: 99.41%\n",
      "accuracy target: 98.72%\n"
     ]
    },
    {
     "name": "stderr",
     "output_type": "stream",
     "text": [
      "epoch:23 current target accuracy:98.83%:  48%|████▊     | 24/50 [04:10<04:31, 10.44s/it]"
     ]
    },
    {
     "name": "stdout",
     "output_type": "stream",
     "text": [
      "epoch [24/50], loss:0.3227\n",
      "accuracy source: 99.4%\n",
      "accuracy target: 98.83%\n"
     ]
    },
    {
     "name": "stderr",
     "output_type": "stream",
     "text": [
      "epoch:24 current target accuracy:98.96%:  50%|█████     | 25/50 [04:20<04:20, 10.44s/it]"
     ]
    },
    {
     "name": "stdout",
     "output_type": "stream",
     "text": [
      "epoch [25/50], loss:0.3212\n",
      "accuracy source: 99.38%\n",
      "accuracy target: 98.96%\n"
     ]
    },
    {
     "name": "stderr",
     "output_type": "stream",
     "text": [
      "epoch:25 current target accuracy:99.0%:  52%|█████▏    | 26/50 [04:31<04:10, 10.44s/it] "
     ]
    },
    {
     "name": "stdout",
     "output_type": "stream",
     "text": [
      "epoch [26/50], loss:0.3200\n",
      "accuracy source: 99.36%\n",
      "accuracy target: 99.0%\n"
     ]
    },
    {
     "name": "stderr",
     "output_type": "stream",
     "text": [
      "epoch:26 current target accuracy:99.03%:  54%|█████▍    | 27/50 [04:41<04:00, 10.44s/it]"
     ]
    },
    {
     "name": "stdout",
     "output_type": "stream",
     "text": [
      "epoch [27/50], loss:0.3194\n",
      "accuracy source: 99.33%\n",
      "accuracy target: 99.03%\n"
     ]
    },
    {
     "name": "stderr",
     "output_type": "stream",
     "text": [
      "epoch:27 current target accuracy:98.92%:  56%|█████▌    | 28/50 [04:52<03:49, 10.44s/it]"
     ]
    },
    {
     "name": "stdout",
     "output_type": "stream",
     "text": [
      "epoch [28/50], loss:0.3200\n",
      "accuracy source: 99.36%\n",
      "accuracy target: 98.92%\n"
     ]
    },
    {
     "name": "stderr",
     "output_type": "stream",
     "text": [
      "epoch:28 current target accuracy:98.81%:  58%|█████▊    | 29/50 [05:02<03:39, 10.45s/it]"
     ]
    },
    {
     "name": "stdout",
     "output_type": "stream",
     "text": [
      "epoch [29/50], loss:0.3210\n",
      "accuracy source: 99.29%\n",
      "accuracy target: 98.81%\n"
     ]
    },
    {
     "name": "stderr",
     "output_type": "stream",
     "text": [
      "epoch:29 current target accuracy:98.9%:  60%|██████    | 30/50 [05:13<03:28, 10.45s/it] "
     ]
    },
    {
     "name": "stdout",
     "output_type": "stream",
     "text": [
      "epoch [30/50], loss:0.3223\n",
      "accuracy source: 99.23%\n",
      "accuracy target: 98.9%\n"
     ]
    },
    {
     "name": "stderr",
     "output_type": "stream",
     "text": [
      "epoch:30 current target accuracy:98.75%:  62%|██████▏   | 31/50 [05:23<03:18, 10.45s/it]"
     ]
    },
    {
     "name": "stdout",
     "output_type": "stream",
     "text": [
      "epoch [31/50], loss:0.3216\n",
      "accuracy source: 99.27%\n",
      "accuracy target: 98.75%\n"
     ]
    },
    {
     "name": "stderr",
     "output_type": "stream",
     "text": [
      "epoch:31 current target accuracy:98.9%:  64%|██████▍   | 32/50 [05:34<03:08, 10.47s/it] "
     ]
    },
    {
     "name": "stdout",
     "output_type": "stream",
     "text": [
      "epoch [32/50], loss:0.3209\n",
      "accuracy source: 99.34%\n",
      "accuracy target: 98.9%\n"
     ]
    },
    {
     "name": "stderr",
     "output_type": "stream",
     "text": [
      "epoch:32 current target accuracy:98.89%:  66%|██████▌   | 33/50 [05:44<02:58, 10.47s/it]"
     ]
    },
    {
     "name": "stdout",
     "output_type": "stream",
     "text": [
      "epoch [33/50], loss:0.3175\n",
      "accuracy source: 99.44%\n",
      "accuracy target: 98.89%\n"
     ]
    },
    {
     "name": "stderr",
     "output_type": "stream",
     "text": [
      "epoch:33 current target accuracy:98.79%:  68%|██████▊   | 34/50 [05:54<02:47, 10.46s/it]"
     ]
    },
    {
     "name": "stdout",
     "output_type": "stream",
     "text": [
      "epoch [34/50], loss:0.3195\n",
      "accuracy source: 99.29%\n",
      "accuracy target: 98.79%\n"
     ]
    },
    {
     "name": "stderr",
     "output_type": "stream",
     "text": [
      "epoch:34 current target accuracy:98.85%:  70%|███████   | 35/50 [06:05<02:36, 10.44s/it]"
     ]
    },
    {
     "name": "stdout",
     "output_type": "stream",
     "text": [
      "epoch [35/50], loss:0.3201\n",
      "accuracy source: 99.38%\n",
      "accuracy target: 98.85%\n"
     ]
    },
    {
     "name": "stderr",
     "output_type": "stream",
     "text": [
      "epoch:35 current target accuracy:98.88%:  72%|███████▏  | 36/50 [06:15<02:26, 10.43s/it]"
     ]
    },
    {
     "name": "stdout",
     "output_type": "stream",
     "text": [
      "epoch [36/50], loss:0.3184\n",
      "accuracy source: 99.42%\n",
      "accuracy target: 98.88%\n"
     ]
    },
    {
     "name": "stderr",
     "output_type": "stream",
     "text": [
      "epoch:36 current target accuracy:98.93%:  74%|███████▍  | 37/50 [06:26<02:15, 10.43s/it]"
     ]
    },
    {
     "name": "stdout",
     "output_type": "stream",
     "text": [
      "epoch [37/50], loss:0.3214\n",
      "accuracy source: 99.36%\n",
      "accuracy target: 98.93%\n"
     ]
    },
    {
     "name": "stderr",
     "output_type": "stream",
     "text": [
      "epoch:37 current target accuracy:98.82%:  76%|███████▌  | 38/50 [06:36<02:05, 10.43s/it]"
     ]
    },
    {
     "name": "stdout",
     "output_type": "stream",
     "text": [
      "epoch [38/50], loss:0.3211\n",
      "accuracy source: 99.26%\n",
      "accuracy target: 98.82%\n"
     ]
    },
    {
     "name": "stderr",
     "output_type": "stream",
     "text": [
      "epoch:38 current target accuracy:98.89%:  78%|███████▊  | 39/50 [06:47<01:54, 10.44s/it]"
     ]
    },
    {
     "name": "stdout",
     "output_type": "stream",
     "text": [
      "epoch [39/50], loss:0.3194\n",
      "accuracy source: 99.31%\n",
      "accuracy target: 98.89%\n"
     ]
    },
    {
     "name": "stderr",
     "output_type": "stream",
     "text": [
      "epoch:39 current target accuracy:98.81%:  80%|████████  | 40/50 [06:57<01:44, 10.44s/it]"
     ]
    },
    {
     "name": "stdout",
     "output_type": "stream",
     "text": [
      "epoch [40/50], loss:0.3210\n",
      "accuracy source: 99.22%\n",
      "accuracy target: 98.81%\n"
     ]
    },
    {
     "name": "stderr",
     "output_type": "stream",
     "text": [
      "epoch:40 current target accuracy:99.04%:  82%|████████▏ | 41/50 [07:07<01:33, 10.44s/it]"
     ]
    },
    {
     "name": "stdout",
     "output_type": "stream",
     "text": [
      "epoch [41/50], loss:0.3185\n",
      "accuracy source: 99.51%\n",
      "accuracy target: 99.04%\n"
     ]
    },
    {
     "name": "stderr",
     "output_type": "stream",
     "text": [
      "epoch:41 current target accuracy:98.86%:  84%|████████▍ | 42/50 [07:18<01:23, 10.44s/it]"
     ]
    },
    {
     "name": "stdout",
     "output_type": "stream",
     "text": [
      "epoch [42/50], loss:0.3185\n",
      "accuracy source: 99.44%\n",
      "accuracy target: 98.86%\n"
     ]
    },
    {
     "name": "stderr",
     "output_type": "stream",
     "text": [
      "epoch:42 current target accuracy:99.0%:  86%|████████▌ | 43/50 [07:28<01:13, 10.43s/it] "
     ]
    },
    {
     "name": "stdout",
     "output_type": "stream",
     "text": [
      "epoch [43/50], loss:0.3176\n",
      "accuracy source: 99.44%\n",
      "accuracy target: 99.0%\n"
     ]
    },
    {
     "name": "stderr",
     "output_type": "stream",
     "text": [
      "epoch:43 current target accuracy:98.9%:  88%|████████▊ | 44/50 [07:39<01:02, 10.42s/it] "
     ]
    },
    {
     "name": "stdout",
     "output_type": "stream",
     "text": [
      "epoch [44/50], loss:0.3194\n",
      "accuracy source: 99.49%\n",
      "accuracy target: 98.9%\n"
     ]
    },
    {
     "name": "stderr",
     "output_type": "stream",
     "text": [
      "epoch:44 current target accuracy:98.94%:  90%|█████████ | 45/50 [07:49<00:52, 10.43s/it]"
     ]
    },
    {
     "name": "stdout",
     "output_type": "stream",
     "text": [
      "epoch [45/50], loss:0.3178\n",
      "accuracy source: 99.37%\n",
      "accuracy target: 98.94%\n"
     ]
    },
    {
     "name": "stderr",
     "output_type": "stream",
     "text": [
      "epoch:45 current target accuracy:98.92%:  92%|█████████▏| 46/50 [08:00<00:41, 10.43s/it]"
     ]
    },
    {
     "name": "stdout",
     "output_type": "stream",
     "text": [
      "epoch [46/50], loss:0.3200\n",
      "accuracy source: 99.18%\n",
      "accuracy target: 98.92%\n"
     ]
    },
    {
     "name": "stderr",
     "output_type": "stream",
     "text": [
      "epoch:46 current target accuracy:99.04%:  94%|█████████▍| 47/50 [08:10<00:31, 10.43s/it]"
     ]
    },
    {
     "name": "stdout",
     "output_type": "stream",
     "text": [
      "epoch [47/50], loss:0.3197\n",
      "accuracy source: 99.3%\n",
      "accuracy target: 99.04%\n"
     ]
    },
    {
     "name": "stderr",
     "output_type": "stream",
     "text": [
      "epoch:47 current target accuracy:98.94%:  96%|█████████▌| 48/50 [08:20<00:20, 10.45s/it]"
     ]
    },
    {
     "name": "stdout",
     "output_type": "stream",
     "text": [
      "epoch [48/50], loss:0.3191\n",
      "accuracy source: 99.4%\n",
      "accuracy target: 98.94%\n"
     ]
    },
    {
     "name": "stderr",
     "output_type": "stream",
     "text": [
      "epoch:48 current target accuracy:98.9%:  98%|█████████▊| 49/50 [08:31<00:10, 10.44s/it] "
     ]
    },
    {
     "name": "stdout",
     "output_type": "stream",
     "text": [
      "epoch [49/50], loss:0.3162\n",
      "accuracy source: 99.41%\n",
      "accuracy target: 98.9%\n"
     ]
    },
    {
     "name": "stderr",
     "output_type": "stream",
     "text": [
      "epoch:49 current target accuracy:99.03%: 100%|██████████| 50/50 [08:41<00:00, 10.44s/it]"
     ]
    },
    {
     "name": "stdout",
     "output_type": "stream",
     "text": [
      "epoch [50/50], loss:0.3178\n",
      "accuracy source: 99.45%\n",
      "accuracy target: 99.03%\n"
     ]
    },
    {
     "name": "stderr",
     "output_type": "stream",
     "text": [
      "\n"
     ]
    }
   ],
   "source": [
    "optimizer = torch.optim.RMSprop(model.parameters(), lr=1e-4, weight_decay=0.001)\n",
    "\n",
    "epochs = 50\n",
    "betas = np.ones(epochs) * 5\n",
    "\n",
    "train_domain_adaptation(model, optimizer, random_projector, source_train_loader, target_train_loader,\n",
    "                                            epochs=50, betas=betas, gamma=0.5, delta=delta)\n"
   ]
  },
  {
   "cell_type": "code",
   "execution_count": 23,
   "metadata": {},
   "outputs": [
    {
     "data": {
      "text/plain": [
       "0.990124811411329"
      ]
     },
     "execution_count": 23,
     "metadata": {},
     "output_type": "execute_result"
    }
   ],
   "source": [
    "model.eval()\n",
    "test_network(model, target_test_loader)  "
   ]
  },
  {
   "cell_type": "code",
   "execution_count": 10,
   "metadata": {},
   "outputs": [
    {
     "data": {
      "image/png": "[encoded data removed]",
      "text/plain": [
       "<Figure size 432x288 with 6 Axes>"
      ]
     },
     "metadata": {
      "needs_background": "light"
     },
     "output_type": "display_data"
    },
    {
     "data": {
      "image/png": "[encoded data removed]",
      "text/plain": [
       "<Figure size 432x288 with 6 Axes>"
      ]
     },
     "metadata": {
      "needs_background": "light"
     },
     "output_type": "display_data"
    },
    {
     "data": {
      "image/png": "[encoded data removed]",
      "text/plain": [
       "<Figure size 432x288 with 6 Axes>"
      ]
     },
     "metadata": {
      "needs_background": "light"
     },
     "output_type": "display_data"
    },
    {
     "data": {
      "image/png": "[encoded data removed]",
      "text/plain": [
       "<Figure size 432x288 with 6 Axes>"
      ]
     },
     "metadata": {
      "needs_background": "light"
     },
     "output_type": "display_data"
    },
    {
     "data": {
      "image/png": "[encoded data removed]",
      "text/plain": [
       "<Figure size 432x288 with 6 Axes>"
      ]
     },
     "metadata": {
      "needs_background": "light"
     },
     "output_type": "display_data"
    },
    {
     "data": {
      "image/png": "[encoded data removed]",
      "text/plain": [
       "<Figure size 432x288 with 6 Axes>"
      ]
     },
     "metadata": {
      "needs_background": "light"
     },
     "output_type": "display_data"
    },
    {
     "data": {
      "image/png": "[encoded data removed]",
      "text/plain": [
       "<Figure size 432x288 with 6 Axes>"
      ]
     },
     "metadata": {
      "needs_background": "light"
     },
     "output_type": "display_data"
    },
    {
     "data": {
      "image/png": "[encoded data removed]",
      "text/plain": [
       "<Figure size 432x288 with 6 Axes>"
      ]
     },
     "metadata": {
      "needs_background": "light"
     },
     "output_type": "display_data"
    },
    {
     "data": {
      "image/png": "[encoded data removed]",
      "text/plain": [
       "<Figure size 432x288 with 6 Axes>"
      ]
     },
     "metadata": {
      "needs_background": "light"
     },
     "output_type": "display_data"
    },
    {
     "data": {
      "image/png": "[encoded data removed]",
      "text/plain": [
       "<Figure size 432x288 with 6 Axes>"
      ]
     },
     "metadata": {
      "needs_background": "light"
     },
     "output_type": "display_data"
    },
    {
     "data": {
      "image/png": "[encoded data removed]",
      "text/plain": [
       "<Figure size 432x288 with 6 Axes>"
      ]
     },
     "metadata": {
      "needs_background": "light"
     },
     "output_type": "display_data"
    }
   ],
   "source": [
    "plot_target_cross_domain_swapping(model, source_train_loader, target_train_loader)"
   ]
  },
  {
   "cell_type": "code",
   "execution_count": 11,
   "metadata": {},
   "outputs": [
    {
     "data": {
      "image/png": "[encoded data removed]",
      "text/plain": [
       "<Figure size 1440x720 with 4 Axes>"
      ]
     },
     "metadata": {
      "needs_background": "light"
     },
     "output_type": "display_data"
    }
   ],
   "source": [
    "x_s, _ = next(iter(source_train_loader))\n",
    "x_t, _ = next(iter(target_train_loader))\n",
    "#xt_hat, yt_hat, (z_task, z_target), (pred_task, pred_spe) = model(x_t.cuda(), mode='all_target')\n",
    "xs_hat, ys_hat, (z_task, z_source), (pred_task, pred_spe) = model(x_s.cuda(), mode='all_source')\n",
    "xst = model.decode(z_task, x_t[:len(x_s)].cuda(), mode='target')\n",
    "show_decoded_images(x_s[:16], xs_hat[:16], x_t[:len(x_s)][:16], xst[:16])"
   ]
  },
  {
   "cell_type": "code",
   "execution_count": null,
   "metadata": {},
   "outputs": [],
   "source": [
    "torch.save(model, \"mnist_to_usps.pth\")"
   ]
  },
  {
   "cell_type": "code",
   "execution_count": null,
   "metadata": {},
   "outputs": [],
   "source": []
  }
 ],
 "metadata": {
  "kernelspec": {
   "display_name": "Python 3",
   "language": "python",
   "name": "python3"
  },
  "language_info": {
   "codemirror_mode": {
    "name": "ipython",
    "version": 3
   },
   "file_extension": ".py",
   "mimetype": "text/x-python",
   "name": "python",
   "nbconvert_exporter": "python",
   "pygments_lexer": "ipython3",
   "version": "3.7.8"
  }
 },
 "nbformat": 4,
 "nbformat_minor": 4
}
