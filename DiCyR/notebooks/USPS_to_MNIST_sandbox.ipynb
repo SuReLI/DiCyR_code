{
 "cells": [
  {
   "cell_type": "code",
   "execution_count": 1,
   "metadata": {},
   "outputs": [],
   "source": [
    "import sys\n",
    "sys.path.append(\"../\")\n",
    "\n",
    "from torch import nn\n",
    "from data_utils import load_mnist, load_usps\n",
    "from models import DomainAdaptationNetwork, ProjectorNetwork\n",
    "\n",
    "import torch\n",
    "from torch.nn import functional as F\n",
    "import numpy as np\n",
    "from train import train_domain_adaptation\n",
    "from utils import test_network, plot_target_cross_domain_swapping, plot_tsne"
   ]
  },
  {
   "cell_type": "code",
   "execution_count": 2,
   "metadata": {},
   "outputs": [],
   "source": [
    "torch.manual_seed(0)\n",
    "import numpy as np\n",
    "np.random.seed(0)\n",
    "torch.backends.cudnn.deterministic = True\n",
    "torch.backends.cudnn.benchmark = False"
   ]
  },
  {
   "cell_type": "code",
   "execution_count": 3,
   "metadata": {},
   "outputs": [],
   "source": [
    "class Decoder(nn.Module):\n",
    "    def __init__(self, latent_space_dim, conv_feat_size, nb_channels=3):\n",
    "        super(Decoder, self).__init__()\n",
    "\n",
    "        self.latent_space_dim = latent_space_dim\n",
    "        self.conv_feat_size = conv_feat_size\n",
    "\n",
    "        self.deco_dense = nn.Sequential(\n",
    "            nn.Linear(in_features=latent_space_dim, out_features=1024),\n",
    "            nn.ReLU(True),\n",
    "            nn.Linear(in_features=1024, out_features=np.prod(self.conv_feat_size)),\n",
    "            nn.ReLU(True),\n",
    "        )\n",
    "\n",
    "        self.deco_fetures = nn.Sequential(\n",
    "            nn.Conv2d(in_channels=self.conv_feat_size[0], out_channels=75, kernel_size=3, padding=1),\n",
    "            nn.ReLU(True),\n",
    "            nn.Upsample(scale_factor=2),\n",
    "            nn.Conv2d(in_channels=75, out_channels=50, kernel_size=5, padding=2),\n",
    "            nn.ReLU(True),\n",
    "            nn.Upsample(scale_factor=2),\n",
    "            nn.Conv2d(in_channels=50, out_channels=1, kernel_size=5, padding=2),\n",
    "            nn.Sigmoid()\n",
    "        )\n",
    "\n",
    "    def forward(self, z_share, z_spe):\n",
    "        z = torch.cat([z_share, z_spe], 1)\n",
    "        feat_encode = self.deco_dense(z)\n",
    "        feat_encode = feat_encode.view(-1, *self.conv_feat_size)\n",
    "        y = self.deco_fetures(feat_encode)\n",
    "\n",
    "        return y\n",
    "\n",
    "\n",
    "class Encoder(nn.Module):\n",
    "    def __init__(self, latent_space_dim, img_size, nb_channels=3):\n",
    "        super(Encoder, self).__init__()\n",
    "\n",
    "        self.latent_space_dim = latent_space_dim\n",
    "        self.nb_channels = nb_channels\n",
    "\n",
    "        self.conv_feat = nn.Sequential(\n",
    "            nn.Conv2d(in_channels=1, out_channels=50, kernel_size=5, padding=2),\n",
    "            nn.ReLU(True),\n",
    "            nn.BatchNorm2d(50),\n",
    "            nn.MaxPool2d(kernel_size=2, stride=2),\n",
    "            nn.Conv2d(in_channels=50, out_channels=75, kernel_size=5, padding=2),\n",
    "            nn.ReLU(True),\n",
    "            nn.BatchNorm2d(75),\n",
    "            nn.MaxPool2d(kernel_size=2, stride=2),\n",
    "            nn.Conv2d(in_channels=75, out_channels=100, kernel_size=3, padding=1),\n",
    "            nn.ReLU(True),\n",
    "            nn.BatchNorm2d(100),\n",
    "        )\n",
    "\n",
    "        self.conv_feat_size = self.conv_feat(torch.zeros(1, *img_size)).shape[1:]\n",
    "        self.dense_feature_size = np.prod(self.conv_feat_size)\n",
    "\n",
    "        self.dense_feat = nn.Linear(in_features=self.dense_feature_size, out_features=1024)\n",
    "        self.task_feat = nn.Linear(in_features=1024, out_features=latent_space_dim)\n",
    "        self.source_feat = nn.Linear(in_features=1024, out_features=latent_space_dim)\n",
    "        self.target_feat = nn.Linear(in_features=1024, out_features=latent_space_dim)\n",
    "\n",
    "    def forward(self, input_data, mode='all'):\n",
    "        if (input_data.shape[1] == 1) & (self.nb_channels == 3):\n",
    "            input_data = input_data.repeat(1, 3, 1, 1)\n",
    "        feat = self.conv_feat(input_data)\n",
    "        feat = feat.view(-1, self.dense_feature_size)\n",
    "        feat = F.relu(self.dense_feat(feat))\n",
    "        if mode == 'task':\n",
    "            z_task = F.relu(self.task_feat(feat))\n",
    "            return z_task\n",
    "        \n",
    "        elif mode == 'source':\n",
    "            z_source = F.relu(self.source_feat(feat))\n",
    "            return z_source\n",
    "        \n",
    "        elif mode == 'target':\n",
    "            z_target = F.relu(self.target_feat(feat))\n",
    "            return z_target\n",
    "        \n",
    "        else:\n",
    "            z_task = F.relu(self.task_feat(feat))\n",
    "            z_source = F.relu(self.source_feat(feat))\n",
    "            z_target = F.relu(self.target_feat(feat))\n",
    "            return z_task, z_source, z_target        \n",
    "\n"
   ]
  },
  {
   "cell_type": "code",
   "execution_count": 4,
   "metadata": {},
   "outputs": [],
   "source": [
    "import torch\n",
    "import numpy as np\n",
    "from torch import nn\n",
    "from tqdm import tqdm\n",
    "from utils import show_decoded_images\n",
    "from models import GradReverse\n",
    "\n",
    "criterion_reconstruction = nn.BCELoss()\n",
    "criterion_classifier = nn.NLLLoss(reduction='mean')\n",
    "criterion_weighted_classifier = nn.NLLLoss(reduction='none')\n",
    "criterion_disentangle = nn.MSELoss()\n",
    "criterion_distance = nn.MSELoss()\n",
    "criterion_triplet = nn.TripletMarginLoss(margin=1)\n",
    "\n",
    "criterion_reconstruction = nn.BCELoss()\n",
    "disentangle_criterion = nn.MSELoss()\n",
    "criterion_classifier = nn.NLLLoss(reduction='mean')\n",
    "criterion_triplet = nn.TripletMarginLoss(margin=1)\n",
    "\n",
    "def train_domain_adaptation(model, optimizer, random_projector, source_train_loader, target_train_loader, betas,\n",
    "                            alpha=1, gamma=1, delta=0.1, epochs=30, show_images=False):\n",
    "\n",
    "    t = tqdm(range(epochs))\n",
    "    for epoch in t:\n",
    "        total_loss = 0\n",
    "        corrects_source, corrects_target = 0, 0\n",
    "        total_source, total_target = 0, 0\n",
    "\n",
    "        # random images used for disentanglement\n",
    "        #xs_rand = next(iter(source_train_loader))[0].cuda()\n",
    "        #xt_rand = next(iter(target_train_loader))[0].cuda()\n",
    "\n",
    "        for (x_s, y_s), (x_t, y_t) in zip(source_train_loader, target_train_loader):\n",
    "            loss = 0\n",
    "            x_s, y_s, x_t, y_t = x_s.cuda(), y_s.cuda(), x_t.cuda(), y_t.cuda()\n",
    "            min_len = min(len(x_s), len(x_t))\n",
    "            x_s, y_s, x_t, y_t = x_s[:min_len], y_s[:min_len], x_t[:min_len], y_t[:min_len]\n",
    "            # target batch\n",
    "            xt_hat, yt_hat, (z_task, z_target), (pred_task, pred_spe) = model(x_t, mode='all_target')\n",
    "            #Random projection to reduce the dimension\n",
    "            random_task = random_projector(GradReverse.grad_reverse(z_task))\n",
    "            random_spe = random_projector(GradReverse.grad_reverse(z_target))\n",
    "            \n",
    "            # synthetic sample with task information from x_t and style info from xs_rand\n",
    "            xts = model.decode(z_task, x_s[:len(x_t)], mode='source')\n",
    "            z_s = model.encoder(xts.detach(), mode='task')\n",
    "            z_target_prime = model.encoder(torch.flip(x_t, [0])[:len(x_t)], mode='target')\n",
    "            xt_prime = model.decoder_target(z_task, z_target_prime)\n",
    "            yt_tilde, z_target_tilde = model.forward(xt_prime, mode='target')\n",
    "\n",
    "            w, predicted = yt_hat.max(1)\n",
    "            corrects_target += predicted.eq(y_t).sum().item()\n",
    "            total_target += y_t.size(0)\n",
    "\n",
    "            loss += alpha * criterion_reconstruction(xt_hat, x_t)\n",
    "            loss += betas[epoch] * criterion_distance(z_task, z_s)\n",
    "            loss += gamma * (criterion_disentangle(pred_task, random_task) + criterion_disentangle(pred_spe, random_spe))\n",
    "            loss += 0.1 * torch.mean((torch.exp(w.detach()) * criterion_weighted_classifier(yt_tilde, predicted.detach())))\n",
    "            loss += delta[epoch] * criterion_triplet(z_target_tilde, z_target_prime, z_target)\n",
    "\n",
    "            # source batch\n",
    "            xs_hat, ys_hat, (z_task, z_source), (pred_task, pred_spe) = model(x_s, mode='all_source')\n",
    "            #Random projection to reduce the dimension\n",
    "            random_task = random_projector(GradReverse.grad_reverse(z_task))\n",
    "            random_spe = random_projector(GradReverse.grad_reverse(z_source))\n",
    "            \n",
    "            # synthetic sample with task information from x_s and style info from xt_rand\n",
    "            xst = model.decode(z_task, x_t[:len(x_s)], mode='target')\n",
    "            z_t = model.encoder(xst.detach(), mode='task')\n",
    "            z_source_prime = model.encoder(torch.flip(x_s, [0])[:len(x_s)], mode='source')\n",
    "            xs_prime = model.decoder_source(z_task, z_source_prime)\n",
    "            ys_tilde, z_source_tilde = model(xs_prime, mode='source')\n",
    "\n",
    "            _, predicted = ys_hat.max(1)\n",
    "            corrects_source += predicted.eq(y_s).sum().item()\n",
    "            total_source += y_s.size(0)\n",
    "\n",
    "            loss += criterion_classifier(ys_hat, y_s)\n",
    "            loss += alpha * criterion_reconstruction(xs_hat, x_s)\n",
    "            loss += betas[epoch] * criterion_distance(z_task, z_t)\n",
    "            loss += gamma * (criterion_disentangle(pred_task, random_task) + criterion_disentangle(pred_spe, random_spe))\n",
    "            loss += 0.1 * criterion_classifier(ys_tilde, y_s.cuda())\n",
    "            loss += delta[epoch] * criterion_triplet(z_source_tilde, z_source_prime, z_source)\n",
    "\n",
    "            optimizer.zero_grad()\n",
    "            loss.backward()\n",
    "            optimizer.step()\n",
    "            total_loss += float(loss.data)\n",
    "            t.set_description(f'epoch:{epoch} current target accuracy:{round(corrects_target / total_source * 100, 2)}%')\n",
    "        # ===================log========================\n",
    "        print('epoch [{}/{}], loss:{:.4f}'.format(epoch + 1, epochs, total_loss / len(source_train_loader)))\n",
    "        print(f'accuracy source: {round(corrects_source / total_source * 100, 2)}%')\n",
    "        print(f'accuracy target: {round(corrects_target / total_target * 100, 2)}%')\n",
    "        if show_images:\n",
    "            show_decoded_images(x_s[:16], xs_hat[:16], x_t[:len(x_s)][:16], xst[:16])\n",
    "            show_decoded_images(x_t[:16], xt_hat[:16], x_s[:len(x_t)][:16], xts[:16])"
   ]
  },
  {
   "cell_type": "code",
   "execution_count": 18,
   "metadata": {},
   "outputs": [
    {
     "name": "stderr",
     "output_type": "stream",
     "text": [
      "epoch:0 current target accuracy:37.32%:   2%|▏         | 1/50 [00:10<08:40, 10.63s/it]"
     ]
    },
    {
     "name": "stdout",
     "output_type": "stream",
     "text": [
      "epoch [1/50], loss:3.9241\n",
      "accuracy source: 80.43%\n",
      "accuracy target: 37.32%\n"
     ]
    },
    {
     "name": "stderr",
     "output_type": "stream",
     "text": [
      "epoch:1 current target accuracy:62.01%:   4%|▍         | 2/50 [00:21<08:29, 10.62s/it]"
     ]
    },
    {
     "name": "stdout",
     "output_type": "stream",
     "text": [
      "epoch [2/50], loss:3.6966\n",
      "accuracy source: 95.87%\n",
      "accuracy target: 62.01%\n"
     ]
    },
    {
     "name": "stderr",
     "output_type": "stream",
     "text": [
      "epoch:2 current target accuracy:68.14%:   6%|▌         | 3/50 [00:31<08:18, 10.60s/it]"
     ]
    },
    {
     "name": "stdout",
     "output_type": "stream",
     "text": [
      "epoch [3/50], loss:3.5387\n",
      "accuracy source: 96.91%\n",
      "accuracy target: 68.14%\n"
     ]
    },
    {
     "name": "stderr",
     "output_type": "stream",
     "text": [
      "epoch:3 current target accuracy:51.83%:   8%|▊         | 4/50 [00:42<08:06, 10.59s/it]"
     ]
    },
    {
     "name": "stdout",
     "output_type": "stream",
     "text": [
      "epoch [4/50], loss:3.5233\n",
      "accuracy source: 97.28%\n",
      "accuracy target: 51.83%\n"
     ]
    },
    {
     "name": "stderr",
     "output_type": "stream",
     "text": [
      "epoch:4 current target accuracy:35.55%:  10%|█         | 5/50 [00:52<07:55, 10.56s/it]"
     ]
    },
    {
     "name": "stdout",
     "output_type": "stream",
     "text": [
      "epoch [5/50], loss:3.4338\n",
      "accuracy source: 97.02%\n",
      "accuracy target: 35.55%\n"
     ]
    },
    {
     "name": "stderr",
     "output_type": "stream",
     "text": [
      "epoch:5 current target accuracy:64.09%:  12%|█▏        | 6/50 [01:03<07:44, 10.56s/it]"
     ]
    },
    {
     "name": "stdout",
     "output_type": "stream",
     "text": [
      "epoch [6/50], loss:3.2401\n",
      "accuracy source: 97.87%\n",
      "accuracy target: 64.09%\n"
     ]
    },
    {
     "name": "stderr",
     "output_type": "stream",
     "text": [
      "epoch:6 current target accuracy:88.19%:  14%|█▍        | 7/50 [01:14<07:35, 10.58s/it]"
     ]
    },
    {
     "name": "stdout",
     "output_type": "stream",
     "text": [
      "epoch [7/50], loss:3.1034\n",
      "accuracy source: 98.4%\n",
      "accuracy target: 88.19%\n"
     ]
    },
    {
     "name": "stderr",
     "output_type": "stream",
     "text": [
      "epoch:7 current target accuracy:89.92%:  16%|█▌        | 8/50 [01:24<07:24, 10.58s/it]"
     ]
    },
    {
     "name": "stdout",
     "output_type": "stream",
     "text": [
      "epoch [8/50], loss:3.1451\n",
      "accuracy source: 98.23%\n",
      "accuracy target: 89.92%\n"
     ]
    },
    {
     "name": "stderr",
     "output_type": "stream",
     "text": [
      "epoch:8 current target accuracy:88.51%:  18%|█▊        | 9/50 [01:35<07:13, 10.58s/it]"
     ]
    },
    {
     "name": "stdout",
     "output_type": "stream",
     "text": [
      "epoch [9/50], loss:3.0766\n",
      "accuracy source: 98.55%\n",
      "accuracy target: 88.51%\n"
     ]
    },
    {
     "name": "stderr",
     "output_type": "stream",
     "text": [
      "epoch:9 current target accuracy:86.46%:  20%|██        | 10/50 [01:45<07:03, 10.58s/it]"
     ]
    },
    {
     "name": "stdout",
     "output_type": "stream",
     "text": [
      "epoch [10/50], loss:3.0663\n",
      "accuracy source: 98.49%\n",
      "accuracy target: 86.46%\n"
     ]
    },
    {
     "name": "stderr",
     "output_type": "stream",
     "text": [
      "epoch:10 current target accuracy:88.6%:  22%|██▏       | 11/50 [01:56<06:52, 10.57s/it] "
     ]
    },
    {
     "name": "stdout",
     "output_type": "stream",
     "text": [
      "epoch [11/50], loss:3.0564\n",
      "accuracy source: 98.93%\n",
      "accuracy target: 88.6%\n"
     ]
    },
    {
     "name": "stderr",
     "output_type": "stream",
     "text": [
      "epoch:11 current target accuracy:90.54%:  24%|██▍       | 12/50 [02:06<06:41, 10.57s/it]"
     ]
    },
    {
     "name": "stdout",
     "output_type": "stream",
     "text": [
      "epoch [12/50], loss:3.0670\n",
      "accuracy source: 98.74%\n",
      "accuracy target: 90.54%\n"
     ]
    },
    {
     "name": "stderr",
     "output_type": "stream",
     "text": [
      "epoch:12 current target accuracy:92.54%:  26%|██▌       | 13/50 [02:17<06:31, 10.58s/it]"
     ]
    },
    {
     "name": "stdout",
     "output_type": "stream",
     "text": [
      "epoch [13/50], loss:3.0563\n",
      "accuracy source: 98.93%\n",
      "accuracy target: 92.54%\n"
     ]
    },
    {
     "name": "stderr",
     "output_type": "stream",
     "text": [
      "epoch:13 current target accuracy:92.77%:  28%|██▊       | 14/50 [02:28<06:21, 10.59s/it]"
     ]
    },
    {
     "name": "stdout",
     "output_type": "stream",
     "text": [
      "epoch [14/50], loss:3.0058\n",
      "accuracy source: 98.99%\n",
      "accuracy target: 92.77%\n"
     ]
    },
    {
     "name": "stderr",
     "output_type": "stream",
     "text": [
      "epoch:14 current target accuracy:92.17%:  30%|███       | 15/50 [02:38<06:10, 10.58s/it]"
     ]
    },
    {
     "name": "stdout",
     "output_type": "stream",
     "text": [
      "epoch [15/50], loss:3.0203\n",
      "accuracy source: 98.96%\n",
      "accuracy target: 92.17%\n"
     ]
    },
    {
     "name": "stderr",
     "output_type": "stream",
     "text": [
      "epoch:15 current target accuracy:89.84%:  32%|███▏      | 16/50 [02:49<05:59, 10.58s/it]"
     ]
    },
    {
     "name": "stdout",
     "output_type": "stream",
     "text": [
      "epoch [16/50], loss:2.9917\n",
      "accuracy source: 99.11%\n",
      "accuracy target: 89.84%\n"
     ]
    },
    {
     "name": "stderr",
     "output_type": "stream",
     "text": [
      "epoch:16 current target accuracy:87.88%:  34%|███▍      | 17/50 [02:59<05:48, 10.57s/it]"
     ]
    },
    {
     "name": "stdout",
     "output_type": "stream",
     "text": [
      "epoch [17/50], loss:3.0153\n",
      "accuracy source: 98.96%\n",
      "accuracy target: 87.88%\n"
     ]
    },
    {
     "name": "stderr",
     "output_type": "stream",
     "text": [
      "epoch:17 current target accuracy:90.11%:  36%|███▌      | 18/50 [03:10<05:37, 10.56s/it]"
     ]
    },
    {
     "name": "stdout",
     "output_type": "stream",
     "text": [
      "epoch [18/50], loss:3.0486\n",
      "accuracy source: 98.71%\n",
      "accuracy target: 90.11%\n"
     ]
    },
    {
     "name": "stderr",
     "output_type": "stream",
     "text": [
      "epoch:18 current target accuracy:93.02%:  38%|███▊      | 19/50 [03:20<05:27, 10.56s/it]"
     ]
    },
    {
     "name": "stdout",
     "output_type": "stream",
     "text": [
      "epoch [19/50], loss:3.0098\n",
      "accuracy source: 99.25%\n",
      "accuracy target: 93.02%\n"
     ]
    },
    {
     "name": "stderr",
     "output_type": "stream",
     "text": [
      "epoch:19 current target accuracy:93.5%:  40%|████      | 20/50 [03:31<05:17, 10.57s/it] "
     ]
    },
    {
     "name": "stdout",
     "output_type": "stream",
     "text": [
      "epoch [20/50], loss:2.9882\n",
      "accuracy source: 99.15%\n",
      "accuracy target: 93.5%\n"
     ]
    },
    {
     "name": "stderr",
     "output_type": "stream",
     "text": [
      "epoch:20 current target accuracy:93.86%:  42%|████▏     | 21/50 [03:42<05:06, 10.57s/it]"
     ]
    },
    {
     "name": "stdout",
     "output_type": "stream",
     "text": [
      "epoch [21/50], loss:2.9969\n",
      "accuracy source: 99.31%\n",
      "accuracy target: 93.86%\n"
     ]
    },
    {
     "name": "stderr",
     "output_type": "stream",
     "text": [
      "epoch:21 current target accuracy:93.47%:  44%|████▍     | 22/50 [03:52<04:55, 10.57s/it]"
     ]
    },
    {
     "name": "stdout",
     "output_type": "stream",
     "text": [
      "epoch [22/50], loss:2.9942\n",
      "accuracy source: 99.14%\n",
      "accuracy target: 93.47%\n"
     ]
    },
    {
     "name": "stderr",
     "output_type": "stream",
     "text": [
      "epoch:22 current target accuracy:90.5%:  46%|████▌     | 23/50 [04:03<04:45, 10.56s/it] "
     ]
    },
    {
     "name": "stdout",
     "output_type": "stream",
     "text": [
      "epoch [23/50], loss:2.9457\n",
      "accuracy source: 99.19%\n",
      "accuracy target: 90.5%\n"
     ]
    },
    {
     "name": "stderr",
     "output_type": "stream",
     "text": [
      "epoch:23 current target accuracy:90.85%:  48%|████▊     | 24/50 [04:13<04:34, 10.55s/it]"
     ]
    },
    {
     "name": "stdout",
     "output_type": "stream",
     "text": [
      "epoch [24/50], loss:2.9106\n",
      "accuracy source: 99.36%\n",
      "accuracy target: 90.85%\n"
     ]
    },
    {
     "name": "stderr",
     "output_type": "stream",
     "text": [
      "epoch:24 current target accuracy:92.15%:  50%|█████     | 25/50 [04:24<04:23, 10.55s/it]"
     ]
    },
    {
     "name": "stdout",
     "output_type": "stream",
     "text": [
      "epoch [25/50], loss:2.8954\n",
      "accuracy source: 99.09%\n",
      "accuracy target: 92.15%\n"
     ]
    },
    {
     "name": "stderr",
     "output_type": "stream",
     "text": [
      "epoch:25 current target accuracy:94.24%:  52%|█████▏    | 26/50 [04:34<04:13, 10.57s/it]"
     ]
    },
    {
     "name": "stdout",
     "output_type": "stream",
     "text": [
      "epoch [26/50], loss:2.8740\n",
      "accuracy source: 99.15%\n",
      "accuracy target: 94.24%\n"
     ]
    },
    {
     "name": "stderr",
     "output_type": "stream",
     "text": [
      "epoch:26 current target accuracy:94.93%:  54%|█████▍    | 27/50 [04:45<04:03, 10.58s/it]"
     ]
    },
    {
     "name": "stdout",
     "output_type": "stream",
     "text": [
      "epoch [27/50], loss:2.8502\n",
      "accuracy source: 99.15%\n",
      "accuracy target: 94.93%\n"
     ]
    },
    {
     "name": "stderr",
     "output_type": "stream",
     "text": [
      "epoch:27 current target accuracy:95.16%:  56%|█████▌    | 28/50 [04:56<03:52, 10.58s/it]"
     ]
    },
    {
     "name": "stdout",
     "output_type": "stream",
     "text": [
      "epoch [28/50], loss:2.8332\n",
      "accuracy source: 99.41%\n",
      "accuracy target: 95.16%\n"
     ]
    },
    {
     "name": "stderr",
     "output_type": "stream",
     "text": [
      "epoch:28 current target accuracy:95.38%:  58%|█████▊    | 29/50 [05:06<03:42, 10.60s/it]"
     ]
    },
    {
     "name": "stdout",
     "output_type": "stream",
     "text": [
      "epoch [29/50], loss:2.8009\n",
      "accuracy source: 99.33%\n",
      "accuracy target: 95.38%\n"
     ]
    },
    {
     "name": "stderr",
     "output_type": "stream",
     "text": [
      "epoch:29 current target accuracy:95.08%:  60%|██████    | 30/50 [05:17<03:31, 10.60s/it]"
     ]
    },
    {
     "name": "stdout",
     "output_type": "stream",
     "text": [
      "epoch [30/50], loss:2.7772\n",
      "accuracy source: 99.48%\n",
      "accuracy target: 95.08%\n"
     ]
    },
    {
     "name": "stderr",
     "output_type": "stream",
     "text": [
      "epoch:30 current target accuracy:94.76%:  62%|██████▏   | 31/50 [05:27<03:21, 10.59s/it]"
     ]
    },
    {
     "name": "stdout",
     "output_type": "stream",
     "text": [
      "epoch [31/50], loss:2.8451\n",
      "accuracy source: 99.47%\n",
      "accuracy target: 94.76%\n"
     ]
    },
    {
     "name": "stderr",
     "output_type": "stream",
     "text": [
      "epoch:31 current target accuracy:95.1%:  64%|██████▍   | 32/50 [05:38<03:10, 10.57s/it] "
     ]
    },
    {
     "name": "stdout",
     "output_type": "stream",
     "text": [
      "epoch [32/50], loss:2.8530\n",
      "accuracy source: 99.27%\n",
      "accuracy target: 95.1%\n"
     ]
    },
    {
     "name": "stderr",
     "output_type": "stream",
     "text": [
      "epoch:32 current target accuracy:95.91%:  66%|██████▌   | 33/50 [05:48<02:59, 10.56s/it]"
     ]
    },
    {
     "name": "stdout",
     "output_type": "stream",
     "text": [
      "epoch [33/50], loss:2.8426\n",
      "accuracy source: 99.38%\n",
      "accuracy target: 95.91%\n"
     ]
    },
    {
     "name": "stderr",
     "output_type": "stream",
     "text": [
      "epoch:33 current target accuracy:94.69%:  68%|██████▊   | 34/50 [05:59<02:48, 10.56s/it]"
     ]
    },
    {
     "name": "stdout",
     "output_type": "stream",
     "text": [
      "epoch [34/50], loss:2.8656\n",
      "accuracy source: 99.3%\n",
      "accuracy target: 94.69%\n"
     ]
    },
    {
     "name": "stderr",
     "output_type": "stream",
     "text": [
      "epoch:34 current target accuracy:94.17%:  70%|███████   | 35/50 [06:10<02:38, 10.57s/it]"
     ]
    },
    {
     "name": "stdout",
     "output_type": "stream",
     "text": [
      "epoch [35/50], loss:2.8791\n",
      "accuracy source: 99.4%\n",
      "accuracy target: 94.17%\n"
     ]
    },
    {
     "name": "stderr",
     "output_type": "stream",
     "text": [
      "epoch:35 current target accuracy:94.42%:  72%|███████▏  | 36/50 [06:20<02:28, 10.58s/it]"
     ]
    },
    {
     "name": "stdout",
     "output_type": "stream",
     "text": [
      "epoch [36/50], loss:2.8619\n",
      "accuracy source: 99.44%\n",
      "accuracy target: 94.42%\n"
     ]
    },
    {
     "name": "stderr",
     "output_type": "stream",
     "text": [
      "epoch:36 current target accuracy:94.38%:  74%|███████▍  | 37/50 [06:31<02:17, 10.58s/it]"
     ]
    },
    {
     "name": "stdout",
     "output_type": "stream",
     "text": [
      "epoch [37/50], loss:2.8524\n",
      "accuracy source: 99.4%\n",
      "accuracy target: 94.38%\n"
     ]
    },
    {
     "name": "stderr",
     "output_type": "stream",
     "text": [
      "epoch:37 current target accuracy:94.46%:  76%|███████▌  | 38/50 [06:41<02:07, 10.59s/it]"
     ]
    },
    {
     "name": "stdout",
     "output_type": "stream",
     "text": [
      "epoch [38/50], loss:2.8959\n",
      "accuracy source: 99.33%\n",
      "accuracy target: 94.46%\n"
     ]
    },
    {
     "name": "stderr",
     "output_type": "stream",
     "text": [
      "epoch:38 current target accuracy:95.21%:  78%|███████▊  | 39/50 [06:52<01:56, 10.59s/it]"
     ]
    },
    {
     "name": "stdout",
     "output_type": "stream",
     "text": [
      "epoch [39/50], loss:2.9028\n",
      "accuracy source: 99.3%\n",
      "accuracy target: 95.21%\n"
     ]
    },
    {
     "name": "stderr",
     "output_type": "stream",
     "text": [
      "epoch:39 current target accuracy:92.73%:  80%|████████  | 40/50 [07:02<01:45, 10.57s/it]"
     ]
    },
    {
     "name": "stdout",
     "output_type": "stream",
     "text": [
      "epoch [40/50], loss:2.8895\n",
      "accuracy source: 99.44%\n",
      "accuracy target: 92.73%\n"
     ]
    },
    {
     "name": "stderr",
     "output_type": "stream",
     "text": [
      "epoch:40 current target accuracy:93.91%:  82%|████████▏ | 41/50 [07:13<01:35, 10.58s/it]"
     ]
    },
    {
     "name": "stdout",
     "output_type": "stream",
     "text": [
      "epoch [41/50], loss:2.9018\n",
      "accuracy source: 99.4%\n",
      "accuracy target: 93.91%\n"
     ]
    },
    {
     "name": "stderr",
     "output_type": "stream",
     "text": [
      "epoch:41 current target accuracy:95.47%:  84%|████████▍ | 42/50 [07:24<01:24, 10.59s/it]"
     ]
    },
    {
     "name": "stdout",
     "output_type": "stream",
     "text": [
      "epoch [42/50], loss:2.8966\n",
      "accuracy source: 99.27%\n",
      "accuracy target: 95.47%\n"
     ]
    },
    {
     "name": "stderr",
     "output_type": "stream",
     "text": [
      "epoch:42 current target accuracy:93.53%:  86%|████████▌ | 43/50 [07:34<01:14, 10.64s/it]"
     ]
    },
    {
     "name": "stdout",
     "output_type": "stream",
     "text": [
      "epoch [43/50], loss:2.9178\n",
      "accuracy source: 99.27%\n",
      "accuracy target: 93.53%\n"
     ]
    },
    {
     "name": "stderr",
     "output_type": "stream",
     "text": [
      "epoch:43 current target accuracy:92.4%:  88%|████████▊ | 44/50 [07:45<01:03, 10.62s/it] "
     ]
    },
    {
     "name": "stdout",
     "output_type": "stream",
     "text": [
      "epoch [44/50], loss:2.9266\n",
      "accuracy source: 99.27%\n",
      "accuracy target: 92.4%\n"
     ]
    },
    {
     "name": "stderr",
     "output_type": "stream",
     "text": [
      "epoch:44 current target accuracy:93.4%:  90%|█████████ | 45/50 [07:56<00:52, 10.59s/it] "
     ]
    },
    {
     "name": "stdout",
     "output_type": "stream",
     "text": [
      "epoch [45/50], loss:2.9225\n",
      "accuracy source: 99.19%\n",
      "accuracy target: 93.4%\n"
     ]
    },
    {
     "name": "stderr",
     "output_type": "stream",
     "text": [
      "epoch:45 current target accuracy:91.78%:  92%|█████████▏| 46/50 [08:06<00:42, 10.60s/it]"
     ]
    },
    {
     "name": "stdout",
     "output_type": "stream",
     "text": [
      "epoch [46/50], loss:2.9425\n",
      "accuracy source: 99.23%\n",
      "accuracy target: 91.78%\n"
     ]
    },
    {
     "name": "stderr",
     "output_type": "stream",
     "text": [
      "epoch:46 current target accuracy:94.6%:  94%|█████████▍| 47/50 [08:17<00:31, 10.60s/it] "
     ]
    },
    {
     "name": "stdout",
     "output_type": "stream",
     "text": [
      "epoch [47/50], loss:2.9096\n",
      "accuracy source: 99.47%\n",
      "accuracy target: 94.6%\n"
     ]
    },
    {
     "name": "stderr",
     "output_type": "stream",
     "text": [
      "epoch:47 current target accuracy:94.61%:  96%|█████████▌| 48/50 [08:27<00:21, 10.61s/it]"
     ]
    },
    {
     "name": "stdout",
     "output_type": "stream",
     "text": [
      "epoch [48/50], loss:2.9357\n",
      "accuracy source: 99.36%\n",
      "accuracy target: 94.61%\n"
     ]
    },
    {
     "name": "stderr",
     "output_type": "stream",
     "text": [
      "epoch:48 current target accuracy:92.55%:  98%|█████████▊| 49/50 [08:38<00:10, 10.60s/it]"
     ]
    },
    {
     "name": "stdout",
     "output_type": "stream",
     "text": [
      "epoch [49/50], loss:2.9339\n",
      "accuracy source: 99.37%\n",
      "accuracy target: 92.55%\n"
     ]
    },
    {
     "name": "stderr",
     "output_type": "stream",
     "text": [
      "epoch:49 current target accuracy:93.17%: 100%|██████████| 50/50 [08:49<00:00, 10.58s/it]"
     ]
    },
    {
     "name": "stdout",
     "output_type": "stream",
     "text": [
      "epoch [50/50], loss:2.9355\n",
      "accuracy source: 99.3%\n",
      "accuracy target: 93.17%\n"
     ]
    },
    {
     "name": "stderr",
     "output_type": "stream",
     "text": [
      "\n"
     ]
    }
   ],
   "source": [
    "learning_rate = 5e-4\n",
    "\n",
    "source_train_loader, source_test_loader =  load_usps(img_size=32, augment=True, batch_size=64, shuffle=True, num_workers=4)\n",
    "target_train_loader, target_test_loader = load_mnist(img_size=32, augment=True, batch_size=64, shuffle=True, num_workers=4)\n",
    "\n",
    "encoder = Encoder(latent_space_dim=150, img_size=(1,32,32), nb_channels=1)\n",
    "\n",
    "conv_feat_size = encoder.conv_feat_size\n",
    "decoder_source = Decoder(latent_space_dim=300, conv_feat_size=conv_feat_size, nb_channels=1)\n",
    "decoder_target = Decoder(latent_space_dim=300, conv_feat_size=conv_feat_size, nb_channels=1)\n",
    "\n",
    "classifier = nn.Sequential(nn.Dropout2d(),\n",
    "                         nn.Linear(in_features=150, out_features=10),\n",
    "                         nn.LogSoftmax(dim=1))\n",
    "\n",
    "model = DomainAdaptationNetwork(encoder, decoder_source, decoder_target, classifier).cuda()\n",
    "random_projector = torch.cos\n",
    "optimizer = torch.optim.RMSprop(model.parameters(), lr=learning_rate, weight_decay=0.001)\n",
    "\n",
    "epochs = 50\n",
    "betas = np.linspace(0, 5, epochs)\n",
    "delta = np.linspace(0, 5, epochs)\n",
    "train_domain_adaptation(model, optimizer, random_projector, source_train_loader, target_train_loader,\n",
    "                                            epochs=50, betas=betas, gamma=0.5, delta=delta)"
   ]
  },
  {
   "cell_type": "code",
   "execution_count": 21,
   "metadata": {},
   "outputs": [
    {
     "name": "stdout",
     "output_type": "stream",
     "text": [
      "0.9859\n"
     ]
    },
    {
     "data": {
      "text/plain": [
       "DomainAdaptationNetwork(\n",
       "  (encoder): Encoder(\n",
       "    (conv_feat): Sequential(\n",
       "      (0): Conv2d(1, 50, kernel_size=(5, 5), stride=(1, 1), padding=(2, 2))\n",
       "      (1): ReLU(inplace=True)\n",
       "      (2): BatchNorm2d(50, eps=1e-05, momentum=0.1, affine=True, track_running_stats=True)\n",
       "      (3): MaxPool2d(kernel_size=2, stride=2, padding=0, dilation=1, ceil_mode=False)\n",
       "      (4): Conv2d(50, 75, kernel_size=(5, 5), stride=(1, 1), padding=(2, 2))\n",
       "      (5): ReLU(inplace=True)\n",
       "      (6): BatchNorm2d(75, eps=1e-05, momentum=0.1, affine=True, track_running_stats=True)\n",
       "      (7): MaxPool2d(kernel_size=2, stride=2, padding=0, dilation=1, ceil_mode=False)\n",
       "      (8): Conv2d(75, 100, kernel_size=(3, 3), stride=(1, 1), padding=(1, 1))\n",
       "      (9): ReLU(inplace=True)\n",
       "      (10): BatchNorm2d(100, eps=1e-05, momentum=0.1, affine=True, track_running_stats=True)\n",
       "    )\n",
       "    (dense_feat): Linear(in_features=6400, out_features=1024, bias=True)\n",
       "    (task_feat): Linear(in_features=1024, out_features=150, bias=True)\n",
       "    (source_feat): Linear(in_features=1024, out_features=150, bias=True)\n",
       "    (target_feat): Linear(in_features=1024, out_features=150, bias=True)\n",
       "  )\n",
       "  (decoder_source): Decoder(\n",
       "    (deco_dense): Sequential(\n",
       "      (0): Linear(in_features=300, out_features=1024, bias=True)\n",
       "      (1): ReLU(inplace=True)\n",
       "      (2): Linear(in_features=1024, out_features=6400, bias=True)\n",
       "      (3): ReLU(inplace=True)\n",
       "    )\n",
       "    (deco_fetures): Sequential(\n",
       "      (0): Conv2d(100, 75, kernel_size=(3, 3), stride=(1, 1), padding=(1, 1))\n",
       "      (1): ReLU(inplace=True)\n",
       "      (2): Upsample(scale_factor=2.0, mode=nearest)\n",
       "      (3): Conv2d(75, 50, kernel_size=(5, 5), stride=(1, 1), padding=(2, 2))\n",
       "      (4): ReLU(inplace=True)\n",
       "      (5): Upsample(scale_factor=2.0, mode=nearest)\n",
       "      (6): Conv2d(50, 1, kernel_size=(5, 5), stride=(1, 1), padding=(2, 2))\n",
       "      (7): Sigmoid()\n",
       "    )\n",
       "  )\n",
       "  (decoder_target): Decoder(\n",
       "    (deco_dense): Sequential(\n",
       "      (0): Linear(in_features=300, out_features=1024, bias=True)\n",
       "      (1): ReLU(inplace=True)\n",
       "      (2): Linear(in_features=1024, out_features=6400, bias=True)\n",
       "      (3): ReLU(inplace=True)\n",
       "    )\n",
       "    (deco_fetures): Sequential(\n",
       "      (0): Conv2d(100, 75, kernel_size=(3, 3), stride=(1, 1), padding=(1, 1))\n",
       "      (1): ReLU(inplace=True)\n",
       "      (2): Upsample(scale_factor=2.0, mode=nearest)\n",
       "      (3): Conv2d(75, 50, kernel_size=(5, 5), stride=(1, 1), padding=(2, 2))\n",
       "      (4): ReLU(inplace=True)\n",
       "      (5): Upsample(scale_factor=2.0, mode=nearest)\n",
       "      (6): Conv2d(50, 1, kernel_size=(5, 5), stride=(1, 1), padding=(2, 2))\n",
       "      (7): Sigmoid()\n",
       "    )\n",
       "  )\n",
       "  (classifier): Sequential(\n",
       "    (0): Dropout2d(p=0.5, inplace=False)\n",
       "    (1): Linear(in_features=150, out_features=10, bias=True)\n",
       "    (2): LogSoftmax(dim=1)\n",
       "  )\n",
       "  (random_source): ProjectorNetwork(\n",
       "    (net): Sequential(\n",
       "      (0): Linear(in_features=150, out_features=32, bias=True)\n",
       "    )\n",
       "  )\n",
       "  (random_target): ProjectorNetwork(\n",
       "    (net): Sequential(\n",
       "      (0): Linear(in_features=150, out_features=32, bias=True)\n",
       "    )\n",
       "  )\n",
       "  (random_task): ProjectorNetwork(\n",
       "    (net): Sequential(\n",
       "      (0): Linear(in_features=150, out_features=32, bias=True)\n",
       "    )\n",
       "  )\n",
       "  (spe_predictor): SelfProjectorNetwork(\n",
       "    (net): Sequential(\n",
       "      (0): Linear(in_features=150, out_features=75, bias=True)\n",
       "      (1): ReLU()\n",
       "      (2): Linear(in_features=75, out_features=75, bias=True)\n",
       "      (3): ReLU()\n",
       "      (4): Linear(in_features=75, out_features=150, bias=True)\n",
       "      (5): ReLU()\n",
       "    )\n",
       "  )\n",
       "  (task_predictor): SelfProjectorNetwork(\n",
       "    (net): Sequential(\n",
       "      (0): Linear(in_features=150, out_features=75, bias=True)\n",
       "      (1): ReLU()\n",
       "      (2): Linear(in_features=75, out_features=75, bias=True)\n",
       "      (3): ReLU()\n",
       "      (4): Linear(in_features=75, out_features=150, bias=True)\n",
       "      (5): ReLU()\n",
       "    )\n",
       "  )\n",
       ")"
      ]
     },
     "execution_count": 21,
     "metadata": {},
     "output_type": "execute_result"
    }
   ],
   "source": [
    "model.eval()\n",
    "print(test_network(model, target_test_loader) )\n",
    "model.train()"
   ]
  },
  {
   "cell_type": "code",
   "execution_count": 20,
   "metadata": {},
   "outputs": [
    {
     "name": "stderr",
     "output_type": "stream",
     "text": [
      "epoch:0 current target accuracy:93.75%:   3%|▎         | 1/30 [00:10<05:05, 10.53s/it]"
     ]
    },
    {
     "name": "stdout",
     "output_type": "stream",
     "text": [
      "epoch [1/30], loss:1.1302\n",
      "accuracy source: 99.47%\n",
      "accuracy target: 93.75%\n"
     ]
    },
    {
     "name": "stderr",
     "output_type": "stream",
     "text": [
      "epoch:1 current target accuracy:94.83%:   7%|▋         | 2/30 [00:21<04:55, 10.56s/it]"
     ]
    },
    {
     "name": "stdout",
     "output_type": "stream",
     "text": [
      "epoch [2/30], loss:1.0799\n",
      "accuracy source: 99.59%\n",
      "accuracy target: 94.83%\n"
     ]
    },
    {
     "name": "stderr",
     "output_type": "stream",
     "text": [
      "epoch:2 current target accuracy:96.24%:  10%|█         | 3/30 [00:31<04:44, 10.55s/it]"
     ]
    },
    {
     "name": "stdout",
     "output_type": "stream",
     "text": [
      "epoch [3/30], loss:1.0648\n",
      "accuracy source: 99.62%\n",
      "accuracy target: 96.24%\n"
     ]
    },
    {
     "name": "stderr",
     "output_type": "stream",
     "text": [
      "epoch:3 current target accuracy:96.38%:  13%|█▎        | 4/30 [00:42<04:34, 10.56s/it]"
     ]
    },
    {
     "name": "stdout",
     "output_type": "stream",
     "text": [
      "epoch [4/30], loss:1.0662\n",
      "accuracy source: 99.62%\n",
      "accuracy target: 96.38%\n"
     ]
    },
    {
     "name": "stderr",
     "output_type": "stream",
     "text": [
      "epoch:4 current target accuracy:95.87%:  17%|█▋        | 5/30 [00:52<04:24, 10.59s/it]"
     ]
    },
    {
     "name": "stdout",
     "output_type": "stream",
     "text": [
      "epoch [5/30], loss:1.0701\n",
      "accuracy source: 99.75%\n",
      "accuracy target: 95.87%\n"
     ]
    },
    {
     "name": "stderr",
     "output_type": "stream",
     "text": [
      "epoch:5 current target accuracy:96.17%:  20%|██        | 6/30 [01:03<04:14, 10.58s/it]"
     ]
    },
    {
     "name": "stdout",
     "output_type": "stream",
     "text": [
      "epoch [6/30], loss:1.0560\n",
      "accuracy source: 99.62%\n",
      "accuracy target: 96.17%\n"
     ]
    },
    {
     "name": "stderr",
     "output_type": "stream",
     "text": [
      "epoch:6 current target accuracy:96.43%:  23%|██▎       | 7/30 [01:14<04:03, 10.57s/it]"
     ]
    },
    {
     "name": "stdout",
     "output_type": "stream",
     "text": [
      "epoch [7/30], loss:1.0540\n",
      "accuracy source: 99.67%\n",
      "accuracy target: 96.43%\n"
     ]
    },
    {
     "name": "stderr",
     "output_type": "stream",
     "text": [
      "epoch:7 current target accuracy:96.39%:  27%|██▋       | 8/30 [01:24<03:52, 10.58s/it]"
     ]
    },
    {
     "name": "stdout",
     "output_type": "stream",
     "text": [
      "epoch [8/30], loss:1.0514\n",
      "accuracy source: 99.67%\n",
      "accuracy target: 96.39%\n"
     ]
    },
    {
     "name": "stderr",
     "output_type": "stream",
     "text": [
      "epoch:8 current target accuracy:96.75%:  30%|███       | 9/30 [01:35<03:42, 10.57s/it]"
     ]
    },
    {
     "name": "stdout",
     "output_type": "stream",
     "text": [
      "epoch [9/30], loss:1.0419\n",
      "accuracy source: 99.73%\n",
      "accuracy target: 96.75%\n"
     ]
    },
    {
     "name": "stderr",
     "output_type": "stream",
     "text": [
      "epoch:9 current target accuracy:96.85%:  33%|███▎      | 10/30 [01:45<03:31, 10.55s/it]"
     ]
    },
    {
     "name": "stdout",
     "output_type": "stream",
     "text": [
      "epoch [10/30], loss:1.0528\n",
      "accuracy source: 99.74%\n",
      "accuracy target: 96.85%\n"
     ]
    },
    {
     "name": "stderr",
     "output_type": "stream",
     "text": [
      "epoch:10 current target accuracy:96.71%:  37%|███▋      | 11/30 [01:56<03:20, 10.55s/it]"
     ]
    },
    {
     "name": "stdout",
     "output_type": "stream",
     "text": [
      "epoch [11/30], loss:1.0227\n",
      "accuracy source: 99.64%\n",
      "accuracy target: 96.71%\n"
     ]
    },
    {
     "name": "stderr",
     "output_type": "stream",
     "text": [
      "epoch:11 current target accuracy:97.08%:  40%|████      | 12/30 [02:06<03:10, 10.56s/it]"
     ]
    },
    {
     "name": "stdout",
     "output_type": "stream",
     "text": [
      "epoch [12/30], loss:1.0476\n",
      "accuracy source: 99.64%\n",
      "accuracy target: 97.08%\n"
     ]
    },
    {
     "name": "stderr",
     "output_type": "stream",
     "text": [
      "epoch:12 current target accuracy:97.23%:  43%|████▎     | 13/30 [02:17<02:59, 10.59s/it]"
     ]
    },
    {
     "name": "stdout",
     "output_type": "stream",
     "text": [
      "epoch [13/30], loss:1.0355\n",
      "accuracy source: 99.66%\n",
      "accuracy target: 97.23%\n"
     ]
    },
    {
     "name": "stderr",
     "output_type": "stream",
     "text": [
      "epoch:13 current target accuracy:97.04%:  47%|████▋     | 14/30 [02:28<02:49, 10.60s/it]"
     ]
    },
    {
     "name": "stdout",
     "output_type": "stream",
     "text": [
      "epoch [14/30], loss:1.0397\n",
      "accuracy source: 99.7%\n",
      "accuracy target: 97.04%\n"
     ]
    },
    {
     "name": "stderr",
     "output_type": "stream",
     "text": [
      "epoch:14 current target accuracy:97.48%:  50%|█████     | 15/30 [02:38<02:38, 10.60s/it]"
     ]
    },
    {
     "name": "stdout",
     "output_type": "stream",
     "text": [
      "epoch [15/30], loss:1.0347\n",
      "accuracy source: 99.66%\n",
      "accuracy target: 97.48%\n"
     ]
    },
    {
     "name": "stderr",
     "output_type": "stream",
     "text": [
      "epoch:15 current target accuracy:97.12%:  53%|█████▎    | 16/30 [02:49<02:28, 10.59s/it]"
     ]
    },
    {
     "name": "stdout",
     "output_type": "stream",
     "text": [
      "epoch [16/30], loss:1.0191\n",
      "accuracy source: 99.73%\n",
      "accuracy target: 97.12%\n"
     ]
    },
    {
     "name": "stderr",
     "output_type": "stream",
     "text": [
      "epoch:16 current target accuracy:97.27%:  57%|█████▋    | 17/30 [02:59<02:17, 10.58s/it]"
     ]
    },
    {
     "name": "stdout",
     "output_type": "stream",
     "text": [
      "epoch [17/30], loss:1.0410\n",
      "accuracy source: 99.7%\n",
      "accuracy target: 97.27%\n"
     ]
    },
    {
     "name": "stderr",
     "output_type": "stream",
     "text": [
      "epoch:17 current target accuracy:97.11%:  60%|██████    | 18/30 [03:10<02:06, 10.56s/it]"
     ]
    },
    {
     "name": "stdout",
     "output_type": "stream",
     "text": [
      "epoch [18/30], loss:1.0330\n",
      "accuracy source: 99.7%\n",
      "accuracy target: 97.11%\n"
     ]
    },
    {
     "name": "stderr",
     "output_type": "stream",
     "text": [
      "epoch:18 current target accuracy:97.5%:  63%|██████▎   | 19/30 [03:20<01:56, 10.55s/it] "
     ]
    },
    {
     "name": "stdout",
     "output_type": "stream",
     "text": [
      "epoch [19/30], loss:1.0262\n",
      "accuracy source: 99.68%\n",
      "accuracy target: 97.5%\n"
     ]
    },
    {
     "name": "stderr",
     "output_type": "stream",
     "text": [
      "epoch:19 current target accuracy:97.22%:  67%|██████▋   | 20/30 [03:31<01:45, 10.57s/it]"
     ]
    },
    {
     "name": "stdout",
     "output_type": "stream",
     "text": [
      "epoch [20/30], loss:1.0352\n",
      "accuracy source: 99.81%\n",
      "accuracy target: 97.22%\n"
     ]
    },
    {
     "name": "stderr",
     "output_type": "stream",
     "text": [
      "epoch:20 current target accuracy:97.39%:  70%|███████   | 21/30 [03:42<01:35, 10.57s/it]"
     ]
    },
    {
     "name": "stdout",
     "output_type": "stream",
     "text": [
      "epoch [21/30], loss:1.0345\n",
      "accuracy source: 99.81%\n",
      "accuracy target: 97.39%\n"
     ]
    },
    {
     "name": "stderr",
     "output_type": "stream",
     "text": [
      "epoch:21 current target accuracy:97.6%:  73%|███████▎  | 22/30 [03:52<01:24, 10.56s/it] "
     ]
    },
    {
     "name": "stdout",
     "output_type": "stream",
     "text": [
      "epoch [22/30], loss:1.0330\n",
      "accuracy source: 99.75%\n",
      "accuracy target: 97.6%\n"
     ]
    },
    {
     "name": "stderr",
     "output_type": "stream",
     "text": [
      "epoch:22 current target accuracy:97.81%:  77%|███████▋  | 23/30 [04:03<01:13, 10.56s/it]"
     ]
    },
    {
     "name": "stdout",
     "output_type": "stream",
     "text": [
      "epoch [23/30], loss:1.0178\n",
      "accuracy source: 99.81%\n",
      "accuracy target: 97.81%\n"
     ]
    },
    {
     "name": "stderr",
     "output_type": "stream",
     "text": [
      "epoch:23 current target accuracy:97.48%:  80%|████████  | 24/30 [04:13<01:03, 10.55s/it]"
     ]
    },
    {
     "name": "stdout",
     "output_type": "stream",
     "text": [
      "epoch [24/30], loss:1.0312\n",
      "accuracy source: 99.79%\n",
      "accuracy target: 97.48%\n"
     ]
    },
    {
     "name": "stderr",
     "output_type": "stream",
     "text": [
      "epoch:24 current target accuracy:97.39%:  83%|████████▎ | 25/30 [04:24<00:52, 10.56s/it]"
     ]
    },
    {
     "name": "stdout",
     "output_type": "stream",
     "text": [
      "epoch [25/30], loss:1.0221\n",
      "accuracy source: 99.78%\n",
      "accuracy target: 97.39%\n"
     ]
    },
    {
     "name": "stderr",
     "output_type": "stream",
     "text": [
      "epoch:25 current target accuracy:97.53%:  87%|████████▋ | 26/30 [04:34<00:42, 10.59s/it]"
     ]
    },
    {
     "name": "stdout",
     "output_type": "stream",
     "text": [
      "epoch [26/30], loss:1.0237\n",
      "accuracy source: 99.66%\n",
      "accuracy target: 97.53%\n"
     ]
    },
    {
     "name": "stderr",
     "output_type": "stream",
     "text": [
      "epoch:26 current target accuracy:97.79%:  90%|█████████ | 27/30 [04:45<00:31, 10.61s/it]"
     ]
    },
    {
     "name": "stdout",
     "output_type": "stream",
     "text": [
      "epoch [27/30], loss:1.0121\n",
      "accuracy source: 99.75%\n",
      "accuracy target: 97.79%\n"
     ]
    },
    {
     "name": "stderr",
     "output_type": "stream",
     "text": [
      "epoch:27 current target accuracy:97.57%:  93%|█████████▎| 28/30 [04:56<00:21, 10.60s/it]"
     ]
    },
    {
     "name": "stdout",
     "output_type": "stream",
     "text": [
      "epoch [28/30], loss:1.0049\n",
      "accuracy source: 99.79%\n",
      "accuracy target: 97.57%\n"
     ]
    },
    {
     "name": "stderr",
     "output_type": "stream",
     "text": [
      "epoch:28 current target accuracy:97.82%:  97%|█████████▋| 29/30 [05:06<00:10, 10.60s/it]"
     ]
    },
    {
     "name": "stdout",
     "output_type": "stream",
     "text": [
      "epoch [29/30], loss:1.0317\n",
      "accuracy source: 99.81%\n",
      "accuracy target: 97.82%\n"
     ]
    },
    {
     "name": "stderr",
     "output_type": "stream",
     "text": [
      "epoch:29 current target accuracy:97.54%: 100%|██████████| 30/30 [05:17<00:00, 10.58s/it]"
     ]
    },
    {
     "name": "stdout",
     "output_type": "stream",
     "text": [
      "epoch [30/30], loss:1.0198\n",
      "accuracy source: 99.77%\n",
      "accuracy target: 97.54%\n"
     ]
    },
    {
     "name": "stderr",
     "output_type": "stream",
     "text": [
      "\n"
     ]
    }
   ],
   "source": [
    "optimizer = torch.optim.RMSprop(model.parameters(), lr=1e-4, weight_decay=0.001)\n",
    "\n",
    "epochs = 30\n",
    "betas = np.ones(epochs) * 10\n",
    "\n",
    "train_domain_adaptation(model, optimizer, random_projector, source_train_loader, target_train_loader, betas=betas,\n",
    "                                            epochs=epochs, alpha=1, delta=delta, gamma=0.1, show_images=False)"
   ]
  },
  {
   "cell_type": "code",
   "execution_count": 22,
   "metadata": {},
   "outputs": [
    {
     "data": {
      "text/plain": [
       "0.9859"
      ]
     },
     "execution_count": 22,
     "metadata": {},
     "output_type": "execute_result"
    }
   ],
   "source": [
    "model.eval()\n",
    "test_network(model, target_test_loader)  "
   ]
  },
  {
   "cell_type": "code",
   "execution_count": null,
   "metadata": {},
   "outputs": [],
   "source": [
    "plot_target_cross_domain_swapping(model, source_train_loader, target_train_loader)"
   ]
  },
  {
   "cell_type": "code",
   "execution_count": null,
   "metadata": {},
   "outputs": [],
   "source": [
    "torch.save(model, \"usps_to_mnist.pth\")"
   ]
  },
  {
   "cell_type": "code",
   "execution_count": null,
   "metadata": {},
   "outputs": [],
   "source": []
  }
 ],
 "metadata": {
  "kernelspec": {
   "display_name": "Python 3",
   "language": "python",
   "name": "python3"
  },
  "language_info": {
   "codemirror_mode": {
    "name": "ipython",
    "version": 3
   },
   "file_extension": ".py",
   "mimetype": "text/x-python",
   "name": "python",
   "nbconvert_exporter": "python",
   "pygments_lexer": "ipython3",
   "version": "3.7.8"
  }
 },
 "nbformat": 4,
 "nbformat_minor": 4
}
